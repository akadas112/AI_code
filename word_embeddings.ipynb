{
  "nbformat": 4,
  "nbformat_minor": 0,
  "metadata": {
    "colab": {
      "provenance": [],
      "include_colab_link": true
    },
    "kernelspec": {
      "name": "python3",
      "display_name": "Python 3"
    }
  },
  "cells": [
    {
      "cell_type": "markdown",
      "metadata": {
        "id": "view-in-github",
        "colab_type": "text"
      },
      "source": [
        "<a href=\"https://colab.research.google.com/github/akadas112/AI_code/blob/main/word_embeddings.ipynb\" target=\"_parent\"><img src=\"https://colab.research.google.com/assets/colab-badge.svg\" alt=\"Open In Colab\"/></a>"
      ]
    },
    {
      "cell_type": "code",
      "metadata": {
        "id": "LnMP_Frt_bp0",
        "colab": {
          "base_uri": "https://localhost:8080/",
          "height": 34
        },
        "outputId": "17860a0e-21dc-46aa-8169-a83a570dfb16"
      },
      "source": [
        "import tensorflow as tf\n",
        "print(tf.__version__)"
      ],
      "execution_count": null,
      "outputs": [
        {
          "output_type": "stream",
          "text": [
            "2.3.0\n"
          ],
          "name": "stdout"
        }
      ]
    },
    {
      "cell_type": "code",
      "metadata": {
        "id": "yOS-QGL8ACgI"
      },
      "source": [
        "from tensorflow.keras import layers\n",
        "\n",
        "embedding_layer = layers.Embedding(1000, 5)"
      ],
      "execution_count": null,
      "outputs": []
    },
    {
      "cell_type": "code",
      "metadata": {
        "id": "IoEvfxsBJ9ix",
        "colab": {
          "base_uri": "https://localhost:8080/",
          "height": 84
        },
        "outputId": "9a00d3ac-9556-4f0c-b362-1aef996655df"
      },
      "source": [
        "result = embedding_layer(tf.constant([1, 2, 3]))\n",
        "result.numpy()"
      ],
      "execution_count": null,
      "outputs": [
        {
          "output_type": "execute_result",
          "data": {
            "text/plain": [
              "array([[-0.02137107, -0.04152719, -0.04998957, -0.03166902, -0.02381582],\n",
              "       [-0.00951926,  0.02617545, -0.03611697, -0.04965253,  0.00415894],\n",
              "       [ 0.00240667,  0.04115004,  0.03892788, -0.04951764,  0.0241648 ]],\n",
              "      dtype=float32)"
            ]
          },
          "metadata": {
            "tags": []
          },
          "execution_count": 7
        }
      ]
    },
    {
      "cell_type": "code",
      "metadata": {
        "id": "SbJqW3LYKcUp",
        "colab": {
          "base_uri": "https://localhost:8080/",
          "height": 34
        },
        "outputId": "fd09e8a1-530e-4c3a-d919-f540d1a9566a"
      },
      "source": [
        "from tensorflow.keras.preprocessing.text import Tokenizer\n",
        "\n",
        "tokenizer = Tokenizer()\n",
        "\n",
        "sentence = ['আমাদের বলতে লজ্জা লাগে', 'আবার আমরা অনেকে এইটাই জানি নাহ যে আমরা কি জানি নাহ!']\n",
        "\n",
        "tokenizer.fit_on_texts(sentence)\n",
        "sequences = tokenizer.texts_to_sequences(sentence)\n",
        "\n",
        "sequences"
      ],
      "execution_count": null,
      "outputs": [
        {
          "output_type": "execute_result",
          "data": {
            "text/plain": [
              "[[4, 5, 6, 7], [8, 1, 9, 10, 2, 3, 11, 1, 12, 2, 3]]"
            ]
          },
          "metadata": {
            "tags": []
          },
          "execution_count": 8
        }
      ]
    },
    {
      "cell_type": "code",
      "metadata": {
        "id": "h4I8Nkb2MXFa",
        "colab": {
          "base_uri": "https://localhost:8080/",
          "height": 101
        },
        "outputId": "6b94e8bc-aaa6-4dd9-e283-8f6570c37c1a"
      },
      "source": [
        "result = embedding_layer(tf.constant(sequences[0]))\n",
        "result.numpy()"
      ],
      "execution_count": null,
      "outputs": [
        {
          "output_type": "execute_result",
          "data": {
            "text/plain": [
              "array([[ 0.03654111,  0.0071669 ,  0.04394806,  0.00060445,  0.0143384 ],\n",
              "       [ 0.02666905,  0.02519185, -0.02872103,  0.00645044, -0.021288  ],\n",
              "       [-0.01814824, -0.00217323, -0.00200601,  0.02258152, -0.04361961],\n",
              "       [ 0.03025539,  0.01609306, -0.00868966, -0.00676529, -0.00610004]],\n",
              "      dtype=float32)"
            ]
          },
          "metadata": {
            "tags": []
          },
          "execution_count": 9
        }
      ]
    },
    {
      "cell_type": "code",
      "metadata": {
        "id": "qmIUREYrTYuX"
      },
      "source": [
        "from numpy import array\n",
        "from tensorflow.keras.preprocessing.text import Tokenizer\n",
        "from tensorflow.keras.preprocessing.sequence import  pad_sequences\n",
        "from tensorflow.keras.models import Sequential\n",
        "from tensorflow.keras.layers import Flatten, Embedding, Dense, LSTM, Bidirectional"
      ],
      "execution_count": null,
      "outputs": []
    },
    {
      "cell_type": "code",
      "metadata": {
        "id": "Pv_OPHLsMqga"
      },
      "source": [
        "# Real Life Example of Classification\n",
        "\n",
        "train_doc = [  'এই হোটেল এর খাবার একদম ফালতু',\n",
        "               'আমি আর জীবনেও এইখানে খেতে আসব না!',\n",
        "               'কর্মচারী গুলা একদম বেয়াদব, কথা শুনে নাহ',\n",
        "               'খাবার গুলা প্রায়ই ঠাণ্ডা থাকে',\n",
        "               'মাঝে মদ্ধে বাসি খাবারও দেয়',\n",
        "               'খুবই মজার খাবার!!',\n",
        "               'আমার ওদের সার্ভিস ভালো লেগেছে',\n",
        "               'পরিবেশ টি অনেক সুন্দর',\n",
        "               'তাদের খাবার টাটকা ও সুস্বাদু',\n",
        "               'তাদের খাবারের দাম অনেক কম']\n",
        "\n",
        "# Reviews -- negative = 0; positive = 1 (Class/Labels)\n",
        "train_label = array([0, 0, 0, 0, 0, 1, 1, 1, 1, 1])"
      ],
      "execution_count": null,
      "outputs": []
    },
    {
      "cell_type": "code",
      "metadata": {
        "id": "C3TinZrmUNN5",
        "colab": {
          "base_uri": "https://localhost:8080/",
          "height": 35
        },
        "outputId": "f14483b6-1391-42d2-cb00-2f9cdf33bd30"
      },
      "source": [
        "train_doc[4]"
      ],
      "execution_count": null,
      "outputs": [
        {
          "output_type": "execute_result",
          "data": {
            "application/vnd.google.colaboratory.intrinsic+json": {
              "type": "string"
            },
            "text/plain": [
              "'মাঝে মদ্ধে বাসি খাবারও দেয়'"
            ]
          },
          "metadata": {
            "tags": []
          },
          "execution_count": 3
        }
      ]
    },
    {
      "cell_type": "code",
      "metadata": {
        "id": "lWHe5d2ZUP59",
        "colab": {
          "base_uri": "https://localhost:8080/",
          "height": 188
        },
        "outputId": "ff91f639-7828-4dc0-d2f2-ccc2d957f261"
      },
      "source": [
        "# tokenization and converting words into sequence\n",
        "tokenizer = Tokenizer()\n",
        "tokenizer.fit_on_texts(train_doc)\n",
        "dense_train_doc = tokenizer.texts_to_sequences(train_doc)\n",
        "\n",
        "dense_train_doc"
      ],
      "execution_count": null,
      "outputs": [
        {
          "output_type": "execute_result",
          "data": {
            "text/plain": [
              "[[6, 7, 8, 1, 2, 9],\n",
              " [10, 11, 12, 13, 14, 15, 16],\n",
              " [17, 3, 2, 18, 19, 20, 21],\n",
              " [1, 3, 22, 23, 24],\n",
              " [25, 26, 27, 28, 29],\n",
              " [30, 31, 1],\n",
              " [32, 33, 34, 35, 36],\n",
              " [37, 38, 4, 39],\n",
              " [5, 1, 40, 41, 42],\n",
              " [5, 43, 44, 4, 45]]"
            ]
          },
          "metadata": {
            "tags": []
          },
          "execution_count": 4
        }
      ]
    },
    {
      "cell_type": "code",
      "metadata": {
        "id": "AomzHbZ6VBLz",
        "colab": {
          "base_uri": "https://localhost:8080/",
          "height": 188
        },
        "outputId": "684aa457-06c9-43cb-f9dc-0bfa4eb372e5"
      },
      "source": [
        "# padding the training documents in order to make them equal length.\n",
        "MAX_LENGTH = 8\n",
        "\n",
        "padded_trai_doc = pad_sequences(dense_train_doc, maxlen=MAX_LENGTH, padding='post')\n",
        "padded_trai_doc"
      ],
      "execution_count": null,
      "outputs": [
        {
          "output_type": "execute_result",
          "data": {
            "text/plain": [
              "array([[ 6,  7,  8,  1,  2,  9,  0,  0],\n",
              "       [10, 11, 12, 13, 14, 15, 16,  0],\n",
              "       [17,  3,  2, 18, 19, 20, 21,  0],\n",
              "       [ 1,  3, 22, 23, 24,  0,  0,  0],\n",
              "       [25, 26, 27, 28, 29,  0,  0,  0],\n",
              "       [30, 31,  1,  0,  0,  0,  0,  0],\n",
              "       [32, 33, 34, 35, 36,  0,  0,  0],\n",
              "       [37, 38,  4, 39,  0,  0,  0,  0],\n",
              "       [ 5,  1, 40, 41, 42,  0,  0,  0],\n",
              "       [ 5, 43, 44,  4, 45,  0,  0,  0]], dtype=int32)"
            ]
          },
          "metadata": {
            "tags": []
          },
          "execution_count": 5
        }
      ]
    },
    {
      "cell_type": "code",
      "metadata": {
        "id": "t5lPPu1rWK6y",
        "colab": {
          "base_uri": "https://localhost:8080/",
          "height": 274
        },
        "outputId": "c267e43f-0510-4a86-8212-c8ad7f3ff5e3"
      },
      "source": [
        "# Model Declaration\n",
        "VOCUB_SIZE = 50\n",
        "model = Sequential()\n",
        "\n",
        "# embedding layer\n",
        "embedding_layer = Embedding(VOCUB_SIZE, 7, input_length=MAX_LENGTH)\n",
        "model.add(embedding_layer)\n",
        "\n",
        "# Flattening Layer\n",
        "# model.add(Flatten())\n",
        "\n",
        "# LSTM Extra - for performance\n",
        "model.add(LSTM(units=128))\n",
        "\n",
        "# Bidirectional LSTM Extra\n",
        "# forward_layer = LSTM(128, return_sequences=False)\n",
        "# backward_layer = LSTM(128, return_sequences=False, go_backwards=True)\n",
        "# model.add(Bidirectional(forward_layer, backward_layer=backward_layer))\n",
        "\n",
        "# output layer\n",
        "model.add(Dense(units=1, activation='sigmoid'))\n",
        "\n",
        "model.compile(optimizer='adam', loss='mse', metrics=['acc'])\n",
        "\n",
        "print(model.summary())"
      ],
      "execution_count": null,
      "outputs": [
        {
          "output_type": "stream",
          "text": [
            "Model: \"sequential\"\n",
            "_________________________________________________________________\n",
            "Layer (type)                 Output Shape              Param #   \n",
            "=================================================================\n",
            "embedding (Embedding)        (None, 8, 7)              350       \n",
            "_________________________________________________________________\n",
            "lstm (LSTM)                  (None, 128)               69632     \n",
            "_________________________________________________________________\n",
            "dense (Dense)                (None, 1)                 129       \n",
            "=================================================================\n",
            "Total params: 70,111\n",
            "Trainable params: 70,111\n",
            "Non-trainable params: 0\n",
            "_________________________________________________________________\n",
            "None\n"
          ],
          "name": "stdout"
        }
      ]
    },
    {
      "cell_type": "code",
      "metadata": {
        "id": "pqd2X7yEbI24",
        "colab": {
          "base_uri": "https://localhost:8080/",
          "height": 1000
        },
        "outputId": "558a8a4f-9dc9-48d7-e63b-38f1b00a3ecd"
      },
      "source": [
        "model.fit(padded_trai_doc, train_label, epochs=100, verbose=1)"
      ],
      "execution_count": null,
      "outputs": [
        {
          "output_type": "stream",
          "text": [
            "Epoch 1/100\n",
            "1/1 [==============================] - 0s 2ms/step - loss: 0.2502 - acc: 0.5000\n",
            "Epoch 2/100\n",
            "1/1 [==============================] - 0s 3ms/step - loss: 0.2499 - acc: 0.5000\n",
            "Epoch 3/100\n",
            "1/1 [==============================] - 0s 1ms/step - loss: 0.2496 - acc: 0.6000\n",
            "Epoch 4/100\n",
            "1/1 [==============================] - 0s 2ms/step - loss: 0.2492 - acc: 0.5000\n",
            "Epoch 5/100\n",
            "1/1 [==============================] - 0s 1ms/step - loss: 0.2488 - acc: 0.8000\n",
            "Epoch 6/100\n",
            "1/1 [==============================] - 0s 2ms/step - loss: 0.2483 - acc: 1.0000\n",
            "Epoch 7/100\n",
            "1/1 [==============================] - 0s 4ms/step - loss: 0.2477 - acc: 1.0000\n",
            "Epoch 8/100\n",
            "1/1 [==============================] - 0s 1ms/step - loss: 0.2470 - acc: 1.0000\n",
            "Epoch 9/100\n",
            "1/1 [==============================] - 0s 1ms/step - loss: 0.2461 - acc: 1.0000\n",
            "Epoch 10/100\n",
            "1/1 [==============================] - 0s 1ms/step - loss: 0.2451 - acc: 1.0000\n",
            "Epoch 11/100\n",
            "1/1 [==============================] - 0s 2ms/step - loss: 0.2438 - acc: 1.0000\n",
            "Epoch 12/100\n",
            "1/1 [==============================] - 0s 2ms/step - loss: 0.2422 - acc: 1.0000\n",
            "Epoch 13/100\n",
            "1/1 [==============================] - 0s 1ms/step - loss: 0.2404 - acc: 1.0000\n",
            "Epoch 14/100\n",
            "1/1 [==============================] - 0s 3ms/step - loss: 0.2381 - acc: 1.0000\n",
            "Epoch 15/100\n",
            "1/1 [==============================] - 0s 1ms/step - loss: 0.2354 - acc: 1.0000\n",
            "Epoch 16/100\n",
            "1/1 [==============================] - 0s 2ms/step - loss: 0.2320 - acc: 1.0000\n",
            "Epoch 17/100\n",
            "1/1 [==============================] - 0s 1ms/step - loss: 0.2280 - acc: 1.0000\n",
            "Epoch 18/100\n",
            "1/1 [==============================] - 0s 1ms/step - loss: 0.2230 - acc: 1.0000\n",
            "Epoch 19/100\n",
            "1/1 [==============================] - 0s 2ms/step - loss: 0.2170 - acc: 1.0000\n",
            "Epoch 20/100\n",
            "1/1 [==============================] - 0s 1ms/step - loss: 0.2097 - acc: 1.0000\n",
            "Epoch 21/100\n",
            "1/1 [==============================] - 0s 3ms/step - loss: 0.2008 - acc: 1.0000\n",
            "Epoch 22/100\n",
            "1/1 [==============================] - 0s 2ms/step - loss: 0.1901 - acc: 1.0000\n",
            "Epoch 23/100\n",
            "1/1 [==============================] - 0s 2ms/step - loss: 0.1773 - acc: 1.0000\n",
            "Epoch 24/100\n",
            "1/1 [==============================] - 0s 2ms/step - loss: 0.1621 - acc: 1.0000\n",
            "Epoch 25/100\n",
            "1/1 [==============================] - 0s 2ms/step - loss: 0.1444 - acc: 1.0000\n",
            "Epoch 26/100\n",
            "1/1 [==============================] - 0s 1ms/step - loss: 0.1242 - acc: 1.0000\n",
            "Epoch 27/100\n",
            "1/1 [==============================] - 0s 2ms/step - loss: 0.1021 - acc: 1.0000\n",
            "Epoch 28/100\n",
            "1/1 [==============================] - 0s 2ms/step - loss: 0.0790 - acc: 1.0000\n",
            "Epoch 29/100\n",
            "1/1 [==============================] - 0s 2ms/step - loss: 0.0566 - acc: 1.0000\n",
            "Epoch 30/100\n",
            "1/1 [==============================] - 0s 1ms/step - loss: 0.0369 - acc: 1.0000\n",
            "Epoch 31/100\n",
            "1/1 [==============================] - 0s 1ms/step - loss: 0.0217 - acc: 1.0000\n",
            "Epoch 32/100\n",
            "1/1 [==============================] - 0s 1ms/step - loss: 0.0115 - acc: 1.0000\n",
            "Epoch 33/100\n",
            "1/1 [==============================] - 0s 2ms/step - loss: 0.0056 - acc: 1.0000\n",
            "Epoch 34/100\n",
            "1/1 [==============================] - 0s 1ms/step - loss: 0.0025 - acc: 1.0000\n",
            "Epoch 35/100\n",
            "1/1 [==============================] - 0s 1ms/step - loss: 0.0011 - acc: 1.0000\n",
            "Epoch 36/100\n",
            "1/1 [==============================] - 0s 1ms/step - loss: 4.5682e-04 - acc: 1.0000\n",
            "Epoch 37/100\n",
            "1/1 [==============================] - 0s 2ms/step - loss: 1.9544e-04 - acc: 1.0000\n",
            "Epoch 38/100\n",
            "1/1 [==============================] - 0s 1ms/step - loss: 8.6515e-05 - acc: 1.0000\n",
            "Epoch 39/100\n",
            "1/1 [==============================] - 0s 1ms/step - loss: 4.0323e-05 - acc: 1.0000\n",
            "Epoch 40/100\n",
            "1/1 [==============================] - 0s 2ms/step - loss: 1.9992e-05 - acc: 1.0000\n",
            "Epoch 41/100\n",
            "1/1 [==============================] - 0s 1ms/step - loss: 1.0586e-05 - acc: 1.0000\n",
            "Epoch 42/100\n",
            "1/1 [==============================] - 0s 2ms/step - loss: 5.9834e-06 - acc: 1.0000\n",
            "Epoch 43/100\n",
            "1/1 [==============================] - 0s 2ms/step - loss: 3.5964e-06 - acc: 1.0000\n",
            "Epoch 44/100\n",
            "1/1 [==============================] - 0s 5ms/step - loss: 2.2870e-06 - acc: 1.0000\n",
            "Epoch 45/100\n",
            "1/1 [==============================] - 0s 2ms/step - loss: 1.5298e-06 - acc: 1.0000\n",
            "Epoch 46/100\n",
            "1/1 [==============================] - 0s 4ms/step - loss: 1.0703e-06 - acc: 1.0000\n",
            "Epoch 47/100\n",
            "1/1 [==============================] - 0s 1ms/step - loss: 7.7900e-07 - acc: 1.0000\n",
            "Epoch 48/100\n",
            "1/1 [==============================] - 0s 2ms/step - loss: 5.8705e-07 - acc: 1.0000\n",
            "Epoch 49/100\n",
            "1/1 [==============================] - 0s 3ms/step - loss: 4.5617e-07 - acc: 1.0000\n",
            "Epoch 50/100\n",
            "1/1 [==============================] - 0s 2ms/step - loss: 3.6410e-07 - acc: 1.0000\n",
            "Epoch 51/100\n",
            "1/1 [==============================] - 0s 2ms/step - loss: 2.9762e-07 - acc: 1.0000\n",
            "Epoch 52/100\n",
            "1/1 [==============================] - 0s 3ms/step - loss: 2.4843e-07 - acc: 1.0000\n",
            "Epoch 53/100\n",
            "1/1 [==============================] - 0s 2ms/step - loss: 2.1124e-07 - acc: 1.0000\n",
            "Epoch 54/100\n",
            "1/1 [==============================] - 0s 1ms/step - loss: 1.8263e-07 - acc: 1.0000\n",
            "Epoch 55/100\n",
            "1/1 [==============================] - 0s 2ms/step - loss: 1.6022e-07 - acc: 1.0000\n",
            "Epoch 56/100\n",
            "1/1 [==============================] - 0s 4ms/step - loss: 1.4239e-07 - acc: 1.0000\n",
            "Epoch 57/100\n",
            "1/1 [==============================] - 0s 3ms/step - loss: 1.2807e-07 - acc: 1.0000\n",
            "Epoch 58/100\n",
            "1/1 [==============================] - 0s 3ms/step - loss: 1.1638e-07 - acc: 1.0000\n",
            "Epoch 59/100\n",
            "1/1 [==============================] - 0s 2ms/step - loss: 1.0676e-07 - acc: 1.0000\n",
            "Epoch 60/100\n",
            "1/1 [==============================] - 0s 2ms/step - loss: 9.8757e-08 - acc: 1.0000\n",
            "Epoch 61/100\n",
            "1/1 [==============================] - 0s 2ms/step - loss: 9.2049e-08 - acc: 1.0000\n",
            "Epoch 62/100\n",
            "1/1 [==============================] - 0s 2ms/step - loss: 8.6383e-08 - acc: 1.0000\n",
            "Epoch 63/100\n",
            "1/1 [==============================] - 0s 2ms/step - loss: 8.1567e-08 - acc: 1.0000\n",
            "Epoch 64/100\n",
            "1/1 [==============================] - 0s 4ms/step - loss: 7.7431e-08 - acc: 1.0000\n",
            "Epoch 65/100\n",
            "1/1 [==============================] - 0s 2ms/step - loss: 7.3912e-08 - acc: 1.0000\n",
            "Epoch 66/100\n",
            "1/1 [==============================] - 0s 2ms/step - loss: 7.0822e-08 - acc: 1.0000\n",
            "Epoch 67/100\n",
            "1/1 [==============================] - 0s 2ms/step - loss: 6.8150e-08 - acc: 1.0000\n",
            "Epoch 68/100\n",
            "1/1 [==============================] - 0s 1ms/step - loss: 6.5825e-08 - acc: 1.0000\n",
            "Epoch 69/100\n",
            "1/1 [==============================] - 0s 3ms/step - loss: 6.3770e-08 - acc: 1.0000\n",
            "Epoch 70/100\n",
            "1/1 [==============================] - 0s 3ms/step - loss: 6.1978e-08 - acc: 1.0000\n",
            "Epoch 71/100\n",
            "1/1 [==============================] - 0s 1ms/step - loss: 6.0412e-08 - acc: 1.0000\n",
            "Epoch 72/100\n",
            "1/1 [==============================] - 0s 4ms/step - loss: 5.9027e-08 - acc: 1.0000\n",
            "Epoch 73/100\n",
            "1/1 [==============================] - 0s 3ms/step - loss: 5.7787e-08 - acc: 1.0000\n",
            "Epoch 74/100\n",
            "1/1 [==============================] - 0s 2ms/step - loss: 5.6691e-08 - acc: 1.0000\n",
            "Epoch 75/100\n",
            "1/1 [==============================] - 0s 3ms/step - loss: 5.5714e-08 - acc: 1.0000\n",
            "Epoch 76/100\n",
            "1/1 [==============================] - 0s 3ms/step - loss: 5.4852e-08 - acc: 1.0000\n",
            "Epoch 77/100\n",
            "1/1 [==============================] - 0s 2ms/step - loss: 5.4078e-08 - acc: 1.0000\n",
            "Epoch 78/100\n",
            "1/1 [==============================] - 0s 2ms/step - loss: 5.3381e-08 - acc: 1.0000\n",
            "Epoch 79/100\n",
            "1/1 [==============================] - 0s 3ms/step - loss: 5.2759e-08 - acc: 1.0000\n",
            "Epoch 80/100\n",
            "1/1 [==============================] - 0s 3ms/step - loss: 5.2200e-08 - acc: 1.0000\n",
            "Epoch 81/100\n",
            "1/1 [==============================] - 0s 2ms/step - loss: 5.1697e-08 - acc: 1.0000\n",
            "Epoch 82/100\n",
            "1/1 [==============================] - 0s 1ms/step - loss: 5.1265e-08 - acc: 1.0000\n",
            "Epoch 83/100\n",
            "1/1 [==============================] - 0s 1ms/step - loss: 5.0854e-08 - acc: 1.0000\n",
            "Epoch 84/100\n",
            "1/1 [==============================] - 0s 2ms/step - loss: 5.0492e-08 - acc: 1.0000\n",
            "Epoch 85/100\n",
            "1/1 [==============================] - 0s 2ms/step - loss: 5.0174e-08 - acc: 1.0000\n",
            "Epoch 86/100\n",
            "1/1 [==============================] - 0s 2ms/step - loss: 4.9871e-08 - acc: 1.0000\n",
            "Epoch 87/100\n",
            "1/1 [==============================] - 0s 1ms/step - loss: 4.9605e-08 - acc: 1.0000\n",
            "Epoch 88/100\n",
            "1/1 [==============================] - 0s 2ms/step - loss: 4.9365e-08 - acc: 1.0000\n",
            "Epoch 89/100\n",
            "1/1 [==============================] - 0s 2ms/step - loss: 4.9140e-08 - acc: 1.0000\n",
            "Epoch 90/100\n",
            "1/1 [==============================] - 0s 1ms/step - loss: 4.8952e-08 - acc: 1.0000\n",
            "Epoch 91/100\n",
            "1/1 [==============================] - 0s 2ms/step - loss: 4.8772e-08 - acc: 1.0000\n",
            "Epoch 92/100\n",
            "1/1 [==============================] - 0s 2ms/step - loss: 4.8616e-08 - acc: 1.0000\n",
            "Epoch 93/100\n",
            "1/1 [==============================] - 0s 3ms/step - loss: 4.8463e-08 - acc: 1.0000\n",
            "Epoch 94/100\n",
            "1/1 [==============================] - 0s 3ms/step - loss: 4.8339e-08 - acc: 1.0000\n",
            "Epoch 95/100\n",
            "1/1 [==============================] - 0s 3ms/step - loss: 4.8217e-08 - acc: 1.0000\n",
            "Epoch 96/100\n",
            "1/1 [==============================] - 0s 2ms/step - loss: 4.8112e-08 - acc: 1.0000\n",
            "Epoch 97/100\n",
            "1/1 [==============================] - 0s 2ms/step - loss: 4.8014e-08 - acc: 1.0000\n",
            "Epoch 98/100\n",
            "1/1 [==============================] - 0s 1ms/step - loss: 4.7932e-08 - acc: 1.0000\n",
            "Epoch 99/100\n",
            "1/1 [==============================] - 0s 1ms/step - loss: 4.7837e-08 - acc: 1.0000\n",
            "Epoch 100/100\n",
            "1/1 [==============================] - 0s 1ms/step - loss: 4.7773e-08 - acc: 1.0000\n"
          ],
          "name": "stdout"
        },
        {
          "output_type": "execute_result",
          "data": {
            "text/plain": [
              "<tensorflow.python.keras.callbacks.History at 0x7f457c8c4630>"
            ]
          },
          "metadata": {
            "tags": []
          },
          "execution_count": 7
        }
      ]
    },
    {
      "cell_type": "code",
      "metadata": {
        "id": "8WAW_iL-b9px",
        "colab": {
          "base_uri": "https://localhost:8080/",
          "height": 154
        },
        "outputId": "db90cb05-fa68-4478-ba6a-a651ce0f9111"
      },
      "source": [
        "test_doc = ['হোটেল টার খাবার ফালতু', 'ভালো লাগার অপর নাম এই রেস্টুরেন্ট', 'বদমাইশ কর্মচারী, পাত্তা দেয় না কাস্টোমারদের']\n",
        "\n",
        "# tokenization and converting words into sequence\n",
        "dense_test_doc = tokenizer.texts_to_sequences(test_doc)\n",
        "\n",
        "# padding the test documents.\n",
        "padded_test_doc = pad_sequences(dense_test_doc, maxlen=MAX_LENGTH, padding='post')\n",
        "\n",
        "prediction = model.predict(padded_test_doc)\n",
        "\n",
        "print(\"Raw Prediction (Sigmoid Output):\\n{}\\n\".format(prediction))\n",
        "\n",
        "\n",
        "# making a decision\n",
        "bin_prediction = []\n",
        "for [pred] in prediction:\n",
        "  if pred < 0.5:\n",
        "    bin_prediction.append(0)   # put 0 if the probability is less than 0.5\n",
        "  else:\n",
        "    bin_prediction.append(1)   # 1 if prediction >= 0.5\n",
        "\n",
        "# Making the Prediction beautiful!! :p\n",
        "\n",
        "class_type = {0: 'negative', 1: 'positive'}\n",
        "\n",
        "for indx, doc in enumerate(test_doc):\n",
        "  print(\"Test Doc-{}: Prediction = {} ({}) -- {}\".format(indx, bin_prediction[indx], class_type[bin_prediction[indx]], doc))\n",
        "\n",
        "# loss, accuracy = model.evaluate(padded_trai_doc, train_label, )"
      ],
      "execution_count": null,
      "outputs": [
        {
          "output_type": "stream",
          "text": [
            "Raw Prediction (Sigmoid Output):\n",
            "[[1.9353628e-04]\n",
            " [9.9906254e-01]\n",
            " [1.2564659e-04]]\n",
            "\n",
            "Test Doc-0: Prediction = 0 (negative) -- হোটেল টার খাবার ফালতু\n",
            "Test Doc-1: Prediction = 1 (positive) -- ভালো লাগার অপর নাম এই রেস্টুরেন্ট\n",
            "Test Doc-2: Prediction = 0 (negative) -- বদমাইশ কর্মচারী, পাত্তা দেয় না কাস্টোমারদের\n"
          ],
          "name": "stdout"
        }
      ]
    }
  ]
}