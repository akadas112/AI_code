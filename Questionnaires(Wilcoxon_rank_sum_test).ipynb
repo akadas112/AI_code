{
  "nbformat": 4,
  "nbformat_minor": 0,
  "metadata": {
    "colab": {
      "provenance": []
    },
    "kernelspec": {
      "name": "python3",
      "display_name": "Python 3"
    },
    "language_info": {
      "name": "python"
    }
  },
  "cells": [
    {
      "cell_type": "code",
      "source": [
        "from google.colab import drive\n",
        "drive.mount('/content/drive')"
      ],
      "metadata": {
        "id": "LfU7o_KMizgM"
      },
      "execution_count": null,
      "outputs": []
    },
    {
      "cell_type": "code",
      "source": [
        "#Importing important files....\n",
        "import io\n",
        "import numpy as np\n",
        "import pandas as pd\n",
        "import seaborn as sns\n",
        "from sklearn import tree\n",
        "from sklearn.svm import SVC\n",
        "from google.colab import files\n",
        "import matplotlib.pyplot as plt\n",
        "from sklearn import linear_model\n",
        "from sklearn.impute import SimpleImputer\n",
        "from sklearn.metrics import accuracy_score\n",
        "from sklearn.metrics import confusion_matrix\n",
        "from sklearn.linear_model import LogisticRegression\n",
        "from sklearn.ensemble import RandomForestClassifier\n",
        "from sklearn.model_selection import train_test_split\n",
        "from xgboost import XGBClassifier\n",
        "import seaborn as sns\n",
        "from sklearn.metrics import confusion_matrix\n",
        "from sklearn.metrics import accuracy_score\n",
        "from sklearn.metrics import precision_score\n",
        "from sklearn.metrics import recall_score\n",
        "from sklearn.metrics import f1_score\n",
        "from sklearn.metrics import cohen_kappa_score\n",
        "from sklearn.metrics import roc_auc_score\n",
        "from sklearn import metrics\n",
        "from xgboost import XGBRegressor, plot_tree\n",
        "from sklearn.preprocessing import StandardScaler\n",
        "from imblearn.over_sampling import SMOTE\n",
        "from sklearn.inspection import permutation_importance\n",
        "from statistics import mean, stdev\n",
        "from sklearn import tree\n",
        "from datetime import datetime\n",
        "from sklearn.model_selection import RandomizedSearchCV, GridSearchCV\n",
        "from sklearn.model_selection import StratifiedKFold\n",
        "from sklearn.ensemble import AdaBoostClassifier\n",
        "from sklearn.tree import DecisionTreeClassifier\n",
        "import pickle\n",
        "import tensorflow as tf\n",
        "from tensorflow.keras.models import Sequential\n",
        "from tensorflow.keras.layers import Dense, Activation\n",
        "from tensorflow.keras.optimizers import Adam\n",
        "from sklearn.metrics import cohen_kappa_score\n",
        "from sklearn.metrics import classification_report\n",
        "from sklearn.neighbors import KNeighborsClassifier"
      ],
      "metadata": {
        "id": "2S6vd2UwizdD"
      },
      "execution_count": null,
      "outputs": []
    },
    {
      "cell_type": "code",
      "source": [
        "\n",
        "df = pd.read_excel('/content/drive/MyDrive/Parkinson all docs/Dataset/combine dataset.xlsx')\n",
        "#df_test=pd.read_excel('/content/drive/MyDrive/Parkinson all docs/Dataset/combine dataset(test).xlsx')\n",
        "#df = pd.read_csv('/content/drive/MyDrive/Dataset/Parkinson disease.csv')\n"
      ],
      "metadata": {
        "id": "YRa7WVtrizaT"
      },
      "execution_count": null,
      "outputs": []
    },
    {
      "cell_type": "code",
      "source": [
        "df"
      ],
      "metadata": {
        "id": "tzn474FjizX7"
      },
      "execution_count": null,
      "outputs": []
    },
    {
      "cell_type": "code",
      "source": [
        "_#Defining features(X) and labels(Y)....\n",
        "#X_train = df.drop(['Status','PAT_NO','Event_ID'],axis =1).values\n",
        "#y_train = df['Status'].values\n",
        "#X_test = df_test.drop(['Status','PAT_NO','Event_ID'],axis =1).values\n",
        "#y_test = df_test['Status'].values\n",
        "_#Defining features(X) and labels(Y)....\n",
        "X = df.drop(['status','name'],axis =1).values\n",
        "\n"
      ],
      "metadata": {
        "id": "ak0bLyPwizVL"
      },
      "execution_count": null,
      "outputs": []
    },
    {
      "cell_type": "code",
      "source": [
        "#Checking is any nan value available or not\n",
        "np.any(np.isnan(X))"
      ],
      "metadata": {
        "id": "W9IT6sJ-izSj"
      },
      "execution_count": null,
      "outputs": []
    },
    {
      "cell_type": "code",
      "source": [
        "#Missing value handle\n",
        "imputer = SimpleImputer(missing_values = np.NaN, strategy = 'mean')\n",
        "imputer = imputer.fit(X)\n",
        "X = imputer.transform(X)\n",
        "#imputer1 = SimpleImputer(missing_values = np.NaN, strategy = 'mean')\n",
        "##imputer1 = imputer1.fit(X_test)\n",
        "#X_test = imputer1.transform(X_test)\n",
        "feature_X = pd.DataFrame(X)\n",
        "#feature_X_test = pd.DataFrame(X_test)"
      ],
      "metadata": {
        "id": "WKj9NQvVm60c"
      },
      "execution_count": null,
      "outputs": []
    },
    {
      "cell_type": "code",
      "source": [
        "feature_X"
      ],
      "metadata": {
        "id": "gDGGRyOrnB6v"
      },
      "execution_count": null,
      "outputs": []
    },
    {
      "cell_type": "code",
      "source": [
        "import scipy.stats as stats\n",
        "feature_names = [ 'NP1SLPD','NP2SPCH','NP2SALV','NP2SWAL','NP2DRES','NP2HYGN','NP2HWRT','NP2HOBB','NP2TURN','NP2RISE','NP2FREZ','NP3FACXP','NP3RIGRU','NP3RIGLU','PN3RIGRL','NP3FTAPR','NP3PRSPR','NP3PRSPL','NP3BRADY','NP3PTRMR','NP3RTALU']\n",
        "stat=[]\n",
        "variable=[]\n",
        "variable_droped=[]\n",
        "\n",
        "for i in range(0,22):\n",
        "  # perform two-sided test. You can use 'greater' or 'less' for one-sided test\n",
        "  a=stats.mannwhitneyu(x=feature_X[i],y=feature_X[53], alternative = 'two-sided')\n",
        "  stat.append(a)\n",
        "# output\n",
        "#MannwhitneyuResult(statistic=489.5, pvalue=7.004695394561267e-07)\n",
        "len(stat)\n",
        "stat = pd.DataFrame(stat)\n",
        "stat['statistic']\n"
      ],
      "metadata": {
        "id": "tCmpRYXfizIr"
      },
      "execution_count": null,
      "outputs": []
    },
    {
      "cell_type": "code",
      "source": [
        "stat=stat['pvalue']\n",
        "print(stat)\n",
        "for p in stat:\n",
        "  if(p<0.05):\n",
        "    variable.append(p)\n",
        "  else:\n",
        "    variable_droped.append(p)\n",
        "print(variable)\n",
        "print(variable_droped)"
      ],
      "metadata": {
        "id": "48kZMLx7izGD"
      },
      "execution_count": null,
      "outputs": []
    },
    {
      "cell_type": "code",
      "source": [],
      "metadata": {
        "id": "0aeFIzjCizDs"
      },
      "execution_count": null,
      "outputs": []
    },
    {
      "cell_type": "code",
      "source": [],
      "metadata": {
        "id": "gpvYWF4FizBV"
      },
      "execution_count": null,
      "outputs": []
    },
    {
      "cell_type": "code",
      "source": [],
      "metadata": {
        "id": "qoyMRhI8iy_L"
      },
      "execution_count": null,
      "outputs": []
    },
    {
      "cell_type": "code",
      "source": [],
      "metadata": {
        "id": "skHJ15wfiy87"
      },
      "execution_count": null,
      "outputs": []
    },
    {
      "cell_type": "code",
      "execution_count": null,
      "metadata": {
        "id": "5f2r7IF9iyDf"
      },
      "outputs": [],
      "source": []
    }
  ]
}