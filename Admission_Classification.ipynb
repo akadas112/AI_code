{
  "nbformat": 4,
  "nbformat_minor": 0,
  "metadata": {
    "colab": {
      "provenance": [],
      "authorship_tag": "ABX9TyOpcRYQHKlMbWdrNMiuhEpZ",
      "include_colab_link": true
    },
    "kernelspec": {
      "name": "python3",
      "display_name": "Python 3"
    },
    "language_info": {
      "name": "python"
    }
  },
  "cells": [
    {
      "cell_type": "markdown",
      "metadata": {
        "id": "view-in-github",
        "colab_type": "text"
      },
      "source": [
        "<a href=\"https://colab.research.google.com/github/akadas112/AI_code/blob/main/Admission_Classification.ipynb\" target=\"_parent\"><img src=\"https://colab.research.google.com/assets/colab-badge.svg\" alt=\"Open In Colab\"/></a>"
      ]
    },
    {
      "cell_type": "code",
      "execution_count": null,
      "metadata": {
        "id": "1GY0wZguZgpD"
      },
      "outputs": [],
      "source": [
        "import pandas as pd\n",
        "import numpy as np\n",
        "import matplotlib as mpl\n",
        "import matplotlib.pyplot as plt\n",
        "import seaborn as sns\n",
        "from sklearn.metrics import accuracy_score, classification_report, confusion_matrix, matthews_corrcoef\n",
        "from sklearn.neighbors import KNeighborsClassifier\n",
        "from sklearn.tree import DecisionTreeClassifier\n",
        "from sklearn.ensemble import RandomForestClassifier\n",
        "from sklearn.naive_bayes import GaussianNB\n",
        "from sklearn.svm import SVC\n",
        "from sklearn.linear_model import LogisticRegression, SGDClassifier"
      ]
    },
    {
      "cell_type": "code",
      "source": [
        "df = pd.read_csv('Admission_Data.csv')\n",
        "df"
      ],
      "metadata": {
        "colab": {
          "base_uri": "https://localhost:8080/",
          "height": 644
        },
        "id": "4_-mOLXOaIbM",
        "outputId": "240b0bc2-0dba-491c-9884-2d983bf9f93d"
      },
      "execution_count": null,
      "outputs": [
        {
          "output_type": "execute_result",
          "data": {
            "text/plain": [
              "     Gender                           Undergraduate_University  \\\n",
              "0      Male                         Bachelor of dental surgery   \n",
              "1      Male  Mawlana Bhashani Science and Technology Univer...   \n",
              "2      Male    Rajshahi University of Engineering & Technology   \n",
              "3    Female  Bangladesh University of Engineering and Techn...   \n",
              "4      Male        International Islamic University Chittagong   \n",
              "..      ...                                                ...   \n",
              "244  Female  Bangladesh University of Engineering and Techn...   \n",
              "245    Male        International Islamic University Chittagong   \n",
              "246  Female  Bangladesh University of Engineering and Techn...   \n",
              "247  Female                                University of Dhaka   \n",
              "248  Female              University of Development Alternative   \n",
              "\n",
              "     Undergraduate_CGPA  GRE  IELTS_TOEFL         Subject_got_chance  \\\n",
              "0                  3.52  296           99  Food and Health Nutration   \n",
              "1                  3.67  303           81           Computer Science   \n",
              "2                  3.82  309           98           Computer Science   \n",
              "3                  3.24  315          111           Computer Science   \n",
              "4                  3.80  302          108                 Chemistry    \n",
              "..                  ...  ...          ...                        ...   \n",
              "244                3.24  315          111           Computer Science   \n",
              "245                3.80  302          108                 Chemistry    \n",
              "246                3.93  302          104                 Chemistry    \n",
              "247                3.11  303           88                   Physics    \n",
              "248                3.91  300          101                Bio Medical   \n",
              "\n",
              "     Work_experience  Research        Effort  Ranking  Chance  \\\n",
              "0                  1         0  Satisfactory        5       1   \n",
              "1                  0         1  Satisfactory        3       1   \n",
              "2                  1         1     Very good        6       1   \n",
              "3                  0         2          Fair        1       1   \n",
              "4                  0         6     Very good        4       1   \n",
              "..               ...       ...           ...      ...     ...   \n",
              "244                0         2          Fair        1       1   \n",
              "245                0         6     Very good        4       1   \n",
              "246                0         7     Excellent        1       1   \n",
              "247                0         0          Fair        5       1   \n",
              "248                1         7     Very good        3       1   \n",
              "\n",
              "    work_position_before_admission  \n",
              "0                 Dental Assistant  \n",
              "1                         Lecturer  \n",
              "2                         Lecturer  \n",
              "3                         Lecturer  \n",
              "4                Assistant Chemist  \n",
              "..                             ...  \n",
              "244                       Lecturer  \n",
              "245              Assistant Chemist  \n",
              "246              Chemical Engineer  \n",
              "247                       Lecturer  \n",
              "248                       Lecturer  \n",
              "\n",
              "[249 rows x 12 columns]"
            ],
            "text/html": [
              "\n",
              "  <div id=\"df-eb2b7164-1093-4722-af75-dfd0df945fb9\">\n",
              "    <div class=\"colab-df-container\">\n",
              "      <div>\n",
              "<style scoped>\n",
              "    .dataframe tbody tr th:only-of-type {\n",
              "        vertical-align: middle;\n",
              "    }\n",
              "\n",
              "    .dataframe tbody tr th {\n",
              "        vertical-align: top;\n",
              "    }\n",
              "\n",
              "    .dataframe thead th {\n",
              "        text-align: right;\n",
              "    }\n",
              "</style>\n",
              "<table border=\"1\" class=\"dataframe\">\n",
              "  <thead>\n",
              "    <tr style=\"text-align: right;\">\n",
              "      <th></th>\n",
              "      <th>Gender</th>\n",
              "      <th>Undergraduate_University</th>\n",
              "      <th>Undergraduate_CGPA</th>\n",
              "      <th>GRE</th>\n",
              "      <th>IELTS_TOEFL</th>\n",
              "      <th>Subject_got_chance</th>\n",
              "      <th>Work_experience</th>\n",
              "      <th>Research</th>\n",
              "      <th>Effort</th>\n",
              "      <th>Ranking</th>\n",
              "      <th>Chance</th>\n",
              "      <th>work_position_before_admission</th>\n",
              "    </tr>\n",
              "  </thead>\n",
              "  <tbody>\n",
              "    <tr>\n",
              "      <th>0</th>\n",
              "      <td>Male</td>\n",
              "      <td>Bachelor of dental surgery</td>\n",
              "      <td>3.52</td>\n",
              "      <td>296</td>\n",
              "      <td>99</td>\n",
              "      <td>Food and Health Nutration</td>\n",
              "      <td>1</td>\n",
              "      <td>0</td>\n",
              "      <td>Satisfactory</td>\n",
              "      <td>5</td>\n",
              "      <td>1</td>\n",
              "      <td>Dental Assistant</td>\n",
              "    </tr>\n",
              "    <tr>\n",
              "      <th>1</th>\n",
              "      <td>Male</td>\n",
              "      <td>Mawlana Bhashani Science and Technology Univer...</td>\n",
              "      <td>3.67</td>\n",
              "      <td>303</td>\n",
              "      <td>81</td>\n",
              "      <td>Computer Science</td>\n",
              "      <td>0</td>\n",
              "      <td>1</td>\n",
              "      <td>Satisfactory</td>\n",
              "      <td>3</td>\n",
              "      <td>1</td>\n",
              "      <td>Lecturer</td>\n",
              "    </tr>\n",
              "    <tr>\n",
              "      <th>2</th>\n",
              "      <td>Male</td>\n",
              "      <td>Rajshahi University of Engineering &amp; Technology</td>\n",
              "      <td>3.82</td>\n",
              "      <td>309</td>\n",
              "      <td>98</td>\n",
              "      <td>Computer Science</td>\n",
              "      <td>1</td>\n",
              "      <td>1</td>\n",
              "      <td>Very good</td>\n",
              "      <td>6</td>\n",
              "      <td>1</td>\n",
              "      <td>Lecturer</td>\n",
              "    </tr>\n",
              "    <tr>\n",
              "      <th>3</th>\n",
              "      <td>Female</td>\n",
              "      <td>Bangladesh University of Engineering and Techn...</td>\n",
              "      <td>3.24</td>\n",
              "      <td>315</td>\n",
              "      <td>111</td>\n",
              "      <td>Computer Science</td>\n",
              "      <td>0</td>\n",
              "      <td>2</td>\n",
              "      <td>Fair</td>\n",
              "      <td>1</td>\n",
              "      <td>1</td>\n",
              "      <td>Lecturer</td>\n",
              "    </tr>\n",
              "    <tr>\n",
              "      <th>4</th>\n",
              "      <td>Male</td>\n",
              "      <td>International Islamic University Chittagong</td>\n",
              "      <td>3.80</td>\n",
              "      <td>302</td>\n",
              "      <td>108</td>\n",
              "      <td>Chemistry</td>\n",
              "      <td>0</td>\n",
              "      <td>6</td>\n",
              "      <td>Very good</td>\n",
              "      <td>4</td>\n",
              "      <td>1</td>\n",
              "      <td>Assistant Chemist</td>\n",
              "    </tr>\n",
              "    <tr>\n",
              "      <th>...</th>\n",
              "      <td>...</td>\n",
              "      <td>...</td>\n",
              "      <td>...</td>\n",
              "      <td>...</td>\n",
              "      <td>...</td>\n",
              "      <td>...</td>\n",
              "      <td>...</td>\n",
              "      <td>...</td>\n",
              "      <td>...</td>\n",
              "      <td>...</td>\n",
              "      <td>...</td>\n",
              "      <td>...</td>\n",
              "    </tr>\n",
              "    <tr>\n",
              "      <th>244</th>\n",
              "      <td>Female</td>\n",
              "      <td>Bangladesh University of Engineering and Techn...</td>\n",
              "      <td>3.24</td>\n",
              "      <td>315</td>\n",
              "      <td>111</td>\n",
              "      <td>Computer Science</td>\n",
              "      <td>0</td>\n",
              "      <td>2</td>\n",
              "      <td>Fair</td>\n",
              "      <td>1</td>\n",
              "      <td>1</td>\n",
              "      <td>Lecturer</td>\n",
              "    </tr>\n",
              "    <tr>\n",
              "      <th>245</th>\n",
              "      <td>Male</td>\n",
              "      <td>International Islamic University Chittagong</td>\n",
              "      <td>3.80</td>\n",
              "      <td>302</td>\n",
              "      <td>108</td>\n",
              "      <td>Chemistry</td>\n",
              "      <td>0</td>\n",
              "      <td>6</td>\n",
              "      <td>Very good</td>\n",
              "      <td>4</td>\n",
              "      <td>1</td>\n",
              "      <td>Assistant Chemist</td>\n",
              "    </tr>\n",
              "    <tr>\n",
              "      <th>246</th>\n",
              "      <td>Female</td>\n",
              "      <td>Bangladesh University of Engineering and Techn...</td>\n",
              "      <td>3.93</td>\n",
              "      <td>302</td>\n",
              "      <td>104</td>\n",
              "      <td>Chemistry</td>\n",
              "      <td>0</td>\n",
              "      <td>7</td>\n",
              "      <td>Excellent</td>\n",
              "      <td>1</td>\n",
              "      <td>1</td>\n",
              "      <td>Chemical Engineer</td>\n",
              "    </tr>\n",
              "    <tr>\n",
              "      <th>247</th>\n",
              "      <td>Female</td>\n",
              "      <td>University of Dhaka</td>\n",
              "      <td>3.11</td>\n",
              "      <td>303</td>\n",
              "      <td>88</td>\n",
              "      <td>Physics</td>\n",
              "      <td>0</td>\n",
              "      <td>0</td>\n",
              "      <td>Fair</td>\n",
              "      <td>5</td>\n",
              "      <td>1</td>\n",
              "      <td>Lecturer</td>\n",
              "    </tr>\n",
              "    <tr>\n",
              "      <th>248</th>\n",
              "      <td>Female</td>\n",
              "      <td>University of Development Alternative</td>\n",
              "      <td>3.91</td>\n",
              "      <td>300</td>\n",
              "      <td>101</td>\n",
              "      <td>Bio Medical</td>\n",
              "      <td>1</td>\n",
              "      <td>7</td>\n",
              "      <td>Very good</td>\n",
              "      <td>3</td>\n",
              "      <td>1</td>\n",
              "      <td>Lecturer</td>\n",
              "    </tr>\n",
              "  </tbody>\n",
              "</table>\n",
              "<p>249 rows × 12 columns</p>\n",
              "</div>\n",
              "      <button class=\"colab-df-convert\" onclick=\"convertToInteractive('df-eb2b7164-1093-4722-af75-dfd0df945fb9')\"\n",
              "              title=\"Convert this dataframe to an interactive table.\"\n",
              "              style=\"display:none;\">\n",
              "        \n",
              "  <svg xmlns=\"http://www.w3.org/2000/svg\" height=\"24px\"viewBox=\"0 0 24 24\"\n",
              "       width=\"24px\">\n",
              "    <path d=\"M0 0h24v24H0V0z\" fill=\"none\"/>\n",
              "    <path d=\"M18.56 5.44l.94 2.06.94-2.06 2.06-.94-2.06-.94-.94-2.06-.94 2.06-2.06.94zm-11 1L8.5 8.5l.94-2.06 2.06-.94-2.06-.94L8.5 2.5l-.94 2.06-2.06.94zm10 10l.94 2.06.94-2.06 2.06-.94-2.06-.94-.94-2.06-.94 2.06-2.06.94z\"/><path d=\"M17.41 7.96l-1.37-1.37c-.4-.4-.92-.59-1.43-.59-.52 0-1.04.2-1.43.59L10.3 9.45l-7.72 7.72c-.78.78-.78 2.05 0 2.83L4 21.41c.39.39.9.59 1.41.59.51 0 1.02-.2 1.41-.59l7.78-7.78 2.81-2.81c.8-.78.8-2.07 0-2.86zM5.41 20L4 18.59l7.72-7.72 1.47 1.35L5.41 20z\"/>\n",
              "  </svg>\n",
              "      </button>\n",
              "      \n",
              "  <style>\n",
              "    .colab-df-container {\n",
              "      display:flex;\n",
              "      flex-wrap:wrap;\n",
              "      gap: 12px;\n",
              "    }\n",
              "\n",
              "    .colab-df-convert {\n",
              "      background-color: #E8F0FE;\n",
              "      border: none;\n",
              "      border-radius: 50%;\n",
              "      cursor: pointer;\n",
              "      display: none;\n",
              "      fill: #1967D2;\n",
              "      height: 32px;\n",
              "      padding: 0 0 0 0;\n",
              "      width: 32px;\n",
              "    }\n",
              "\n",
              "    .colab-df-convert:hover {\n",
              "      background-color: #E2EBFA;\n",
              "      box-shadow: 0px 1px 2px rgba(60, 64, 67, 0.3), 0px 1px 3px 1px rgba(60, 64, 67, 0.15);\n",
              "      fill: #174EA6;\n",
              "    }\n",
              "\n",
              "    [theme=dark] .colab-df-convert {\n",
              "      background-color: #3B4455;\n",
              "      fill: #D2E3FC;\n",
              "    }\n",
              "\n",
              "    [theme=dark] .colab-df-convert:hover {\n",
              "      background-color: #434B5C;\n",
              "      box-shadow: 0px 1px 3px 1px rgba(0, 0, 0, 0.15);\n",
              "      filter: drop-shadow(0px 1px 2px rgba(0, 0, 0, 0.3));\n",
              "      fill: #FFFFFF;\n",
              "    }\n",
              "  </style>\n",
              "\n",
              "      <script>\n",
              "        const buttonEl =\n",
              "          document.querySelector('#df-eb2b7164-1093-4722-af75-dfd0df945fb9 button.colab-df-convert');\n",
              "        buttonEl.style.display =\n",
              "          google.colab.kernel.accessAllowed ? 'block' : 'none';\n",
              "\n",
              "        async function convertToInteractive(key) {\n",
              "          const element = document.querySelector('#df-eb2b7164-1093-4722-af75-dfd0df945fb9');\n",
              "          const dataTable =\n",
              "            await google.colab.kernel.invokeFunction('convertToInteractive',\n",
              "                                                     [key], {});\n",
              "          if (!dataTable) return;\n",
              "\n",
              "          const docLinkHtml = 'Like what you see? Visit the ' +\n",
              "            '<a target=\"_blank\" href=https://colab.research.google.com/notebooks/data_table.ipynb>data table notebook</a>'\n",
              "            + ' to learn more about interactive tables.';\n",
              "          element.innerHTML = '';\n",
              "          dataTable['output_type'] = 'display_data';\n",
              "          await google.colab.output.renderOutput(dataTable, element);\n",
              "          const docLink = document.createElement('div');\n",
              "          docLink.innerHTML = docLinkHtml;\n",
              "          element.appendChild(docLink);\n",
              "        }\n",
              "      </script>\n",
              "    </div>\n",
              "  </div>\n",
              "  "
            ]
          },
          "metadata": {},
          "execution_count": 76
        }
      ]
    },
    {
      "cell_type": "code",
      "source": [
        "df.describe()"
      ],
      "metadata": {
        "colab": {
          "base_uri": "https://localhost:8080/",
          "height": 300
        },
        "id": "vLNb6liQaVDw",
        "outputId": "7859bc3d-98fe-4c69-e63b-092bb74bc434"
      },
      "execution_count": null,
      "outputs": [
        {
          "output_type": "execute_result",
          "data": {
            "text/plain": [
              "       Undergraduate_CGPA    GRE  IELTS_TOEFL  Work_experience  Research  \\\n",
              "count              249.00 249.00       249.00           249.00    249.00   \n",
              "mean                 3.54 300.59       101.00             0.60      2.57   \n",
              "std                  0.29  35.55         8.75             0.49      2.48   \n",
              "min                  2.79 157.00        81.00             0.00      0.00   \n",
              "25%                  3.35 302.00        93.00             0.00      1.00   \n",
              "50%                  3.55 308.00       101.00             1.00      2.00   \n",
              "75%                  3.78 315.00       108.00             1.00      4.00   \n",
              "max                  4.00 333.00       118.00             1.00     15.00   \n",
              "\n",
              "       Ranking  Chance  \n",
              "count   249.00  249.00  \n",
              "mean      4.32    0.79  \n",
              "std       2.86    0.41  \n",
              "min       1.00    0.00  \n",
              "25%       2.00    1.00  \n",
              "50%       4.00    1.00  \n",
              "75%       6.00    1.00  \n",
              "max      10.00    1.00  "
            ],
            "text/html": [
              "\n",
              "  <div id=\"df-13376f39-24a4-40bf-93f2-d4853ec62b5c\">\n",
              "    <div class=\"colab-df-container\">\n",
              "      <div>\n",
              "<style scoped>\n",
              "    .dataframe tbody tr th:only-of-type {\n",
              "        vertical-align: middle;\n",
              "    }\n",
              "\n",
              "    .dataframe tbody tr th {\n",
              "        vertical-align: top;\n",
              "    }\n",
              "\n",
              "    .dataframe thead th {\n",
              "        text-align: right;\n",
              "    }\n",
              "</style>\n",
              "<table border=\"1\" class=\"dataframe\">\n",
              "  <thead>\n",
              "    <tr style=\"text-align: right;\">\n",
              "      <th></th>\n",
              "      <th>Undergraduate_CGPA</th>\n",
              "      <th>GRE</th>\n",
              "      <th>IELTS_TOEFL</th>\n",
              "      <th>Work_experience</th>\n",
              "      <th>Research</th>\n",
              "      <th>Ranking</th>\n",
              "      <th>Chance</th>\n",
              "    </tr>\n",
              "  </thead>\n",
              "  <tbody>\n",
              "    <tr>\n",
              "      <th>count</th>\n",
              "      <td>249.00</td>\n",
              "      <td>249.00</td>\n",
              "      <td>249.00</td>\n",
              "      <td>249.00</td>\n",
              "      <td>249.00</td>\n",
              "      <td>249.00</td>\n",
              "      <td>249.00</td>\n",
              "    </tr>\n",
              "    <tr>\n",
              "      <th>mean</th>\n",
              "      <td>3.54</td>\n",
              "      <td>300.59</td>\n",
              "      <td>101.00</td>\n",
              "      <td>0.60</td>\n",
              "      <td>2.57</td>\n",
              "      <td>4.32</td>\n",
              "      <td>0.79</td>\n",
              "    </tr>\n",
              "    <tr>\n",
              "      <th>std</th>\n",
              "      <td>0.29</td>\n",
              "      <td>35.55</td>\n",
              "      <td>8.75</td>\n",
              "      <td>0.49</td>\n",
              "      <td>2.48</td>\n",
              "      <td>2.86</td>\n",
              "      <td>0.41</td>\n",
              "    </tr>\n",
              "    <tr>\n",
              "      <th>min</th>\n",
              "      <td>2.79</td>\n",
              "      <td>157.00</td>\n",
              "      <td>81.00</td>\n",
              "      <td>0.00</td>\n",
              "      <td>0.00</td>\n",
              "      <td>1.00</td>\n",
              "      <td>0.00</td>\n",
              "    </tr>\n",
              "    <tr>\n",
              "      <th>25%</th>\n",
              "      <td>3.35</td>\n",
              "      <td>302.00</td>\n",
              "      <td>93.00</td>\n",
              "      <td>0.00</td>\n",
              "      <td>1.00</td>\n",
              "      <td>2.00</td>\n",
              "      <td>1.00</td>\n",
              "    </tr>\n",
              "    <tr>\n",
              "      <th>50%</th>\n",
              "      <td>3.55</td>\n",
              "      <td>308.00</td>\n",
              "      <td>101.00</td>\n",
              "      <td>1.00</td>\n",
              "      <td>2.00</td>\n",
              "      <td>4.00</td>\n",
              "      <td>1.00</td>\n",
              "    </tr>\n",
              "    <tr>\n",
              "      <th>75%</th>\n",
              "      <td>3.78</td>\n",
              "      <td>315.00</td>\n",
              "      <td>108.00</td>\n",
              "      <td>1.00</td>\n",
              "      <td>4.00</td>\n",
              "      <td>6.00</td>\n",
              "      <td>1.00</td>\n",
              "    </tr>\n",
              "    <tr>\n",
              "      <th>max</th>\n",
              "      <td>4.00</td>\n",
              "      <td>333.00</td>\n",
              "      <td>118.00</td>\n",
              "      <td>1.00</td>\n",
              "      <td>15.00</td>\n",
              "      <td>10.00</td>\n",
              "      <td>1.00</td>\n",
              "    </tr>\n",
              "  </tbody>\n",
              "</table>\n",
              "</div>\n",
              "      <button class=\"colab-df-convert\" onclick=\"convertToInteractive('df-13376f39-24a4-40bf-93f2-d4853ec62b5c')\"\n",
              "              title=\"Convert this dataframe to an interactive table.\"\n",
              "              style=\"display:none;\">\n",
              "        \n",
              "  <svg xmlns=\"http://www.w3.org/2000/svg\" height=\"24px\"viewBox=\"0 0 24 24\"\n",
              "       width=\"24px\">\n",
              "    <path d=\"M0 0h24v24H0V0z\" fill=\"none\"/>\n",
              "    <path d=\"M18.56 5.44l.94 2.06.94-2.06 2.06-.94-2.06-.94-.94-2.06-.94 2.06-2.06.94zm-11 1L8.5 8.5l.94-2.06 2.06-.94-2.06-.94L8.5 2.5l-.94 2.06-2.06.94zm10 10l.94 2.06.94-2.06 2.06-.94-2.06-.94-.94-2.06-.94 2.06-2.06.94z\"/><path d=\"M17.41 7.96l-1.37-1.37c-.4-.4-.92-.59-1.43-.59-.52 0-1.04.2-1.43.59L10.3 9.45l-7.72 7.72c-.78.78-.78 2.05 0 2.83L4 21.41c.39.39.9.59 1.41.59.51 0 1.02-.2 1.41-.59l7.78-7.78 2.81-2.81c.8-.78.8-2.07 0-2.86zM5.41 20L4 18.59l7.72-7.72 1.47 1.35L5.41 20z\"/>\n",
              "  </svg>\n",
              "      </button>\n",
              "      \n",
              "  <style>\n",
              "    .colab-df-container {\n",
              "      display:flex;\n",
              "      flex-wrap:wrap;\n",
              "      gap: 12px;\n",
              "    }\n",
              "\n",
              "    .colab-df-convert {\n",
              "      background-color: #E8F0FE;\n",
              "      border: none;\n",
              "      border-radius: 50%;\n",
              "      cursor: pointer;\n",
              "      display: none;\n",
              "      fill: #1967D2;\n",
              "      height: 32px;\n",
              "      padding: 0 0 0 0;\n",
              "      width: 32px;\n",
              "    }\n",
              "\n",
              "    .colab-df-convert:hover {\n",
              "      background-color: #E2EBFA;\n",
              "      box-shadow: 0px 1px 2px rgba(60, 64, 67, 0.3), 0px 1px 3px 1px rgba(60, 64, 67, 0.15);\n",
              "      fill: #174EA6;\n",
              "    }\n",
              "\n",
              "    [theme=dark] .colab-df-convert {\n",
              "      background-color: #3B4455;\n",
              "      fill: #D2E3FC;\n",
              "    }\n",
              "\n",
              "    [theme=dark] .colab-df-convert:hover {\n",
              "      background-color: #434B5C;\n",
              "      box-shadow: 0px 1px 3px 1px rgba(0, 0, 0, 0.15);\n",
              "      filter: drop-shadow(0px 1px 2px rgba(0, 0, 0, 0.3));\n",
              "      fill: #FFFFFF;\n",
              "    }\n",
              "  </style>\n",
              "\n",
              "      <script>\n",
              "        const buttonEl =\n",
              "          document.querySelector('#df-13376f39-24a4-40bf-93f2-d4853ec62b5c button.colab-df-convert');\n",
              "        buttonEl.style.display =\n",
              "          google.colab.kernel.accessAllowed ? 'block' : 'none';\n",
              "\n",
              "        async function convertToInteractive(key) {\n",
              "          const element = document.querySelector('#df-13376f39-24a4-40bf-93f2-d4853ec62b5c');\n",
              "          const dataTable =\n",
              "            await google.colab.kernel.invokeFunction('convertToInteractive',\n",
              "                                                     [key], {});\n",
              "          if (!dataTable) return;\n",
              "\n",
              "          const docLinkHtml = 'Like what you see? Visit the ' +\n",
              "            '<a target=\"_blank\" href=https://colab.research.google.com/notebooks/data_table.ipynb>data table notebook</a>'\n",
              "            + ' to learn more about interactive tables.';\n",
              "          element.innerHTML = '';\n",
              "          dataTable['output_type'] = 'display_data';\n",
              "          await google.colab.output.renderOutput(dataTable, element);\n",
              "          const docLink = document.createElement('div');\n",
              "          docLink.innerHTML = docLinkHtml;\n",
              "          element.appendChild(docLink);\n",
              "        }\n",
              "      </script>\n",
              "    </div>\n",
              "  </div>\n",
              "  "
            ]
          },
          "metadata": {},
          "execution_count": 77
        }
      ]
    },
    {
      "cell_type": "code",
      "source": [
        "df.info()"
      ],
      "metadata": {
        "colab": {
          "base_uri": "https://localhost:8080/"
        },
        "id": "-62HG_NtaVJa",
        "outputId": "272227c0-0197-49a9-e668-822a8d5d0a00"
      },
      "execution_count": null,
      "outputs": [
        {
          "output_type": "stream",
          "name": "stdout",
          "text": [
            "<class 'pandas.core.frame.DataFrame'>\n",
            "RangeIndex: 249 entries, 0 to 248\n",
            "Data columns (total 12 columns):\n",
            " #   Column                          Non-Null Count  Dtype  \n",
            "---  ------                          --------------  -----  \n",
            " 0   Gender                          249 non-null    object \n",
            " 1   Undergraduate_University        249 non-null    object \n",
            " 2   Undergraduate_CGPA              249 non-null    float64\n",
            " 3   GRE                             249 non-null    int64  \n",
            " 4   IELTS_TOEFL                     249 non-null    int64  \n",
            " 5   Subject_got_chance              249 non-null    object \n",
            " 6   Work_experience                 249 non-null    int64  \n",
            " 7   Research                        249 non-null    int64  \n",
            " 8   Effort                          249 non-null    object \n",
            " 9   Ranking                         249 non-null    int64  \n",
            " 10  Chance                          249 non-null    int64  \n",
            " 11  work_position_before_admission  249 non-null    object \n",
            "dtypes: float64(1), int64(6), object(5)\n",
            "memory usage: 23.5+ KB\n"
          ]
        }
      ]
    },
    {
      "cell_type": "code",
      "source": [
        "label_X = df.copy()\n",
        "from sklearn.preprocessing import OrdinalEncoder\n",
        "s = (label_X.dtypes == 'object')\n",
        "object_cols = list(s[s].index)\n",
        "ordinal_encoder = OrdinalEncoder()\n",
        "label_X[object_cols] = ordinal_encoder.fit_transform(df[object_cols])\n",
        "%matplotlib inline\n",
        "# For plotting histogram\n",
        "label_X.hist(bins=50, figsize=(20, 15))"
      ],
      "metadata": {
        "colab": {
          "base_uri": "https://localhost:8080/",
          "height": 949
        },
        "id": "Fl39M58pakRs",
        "outputId": "793a462f-db38-42bf-c6bb-76fd61bbf3a9"
      },
      "execution_count": null,
      "outputs": [
        {
          "output_type": "execute_result",
          "data": {
            "text/plain": [
              "array([[<matplotlib.axes._subplots.AxesSubplot object at 0x7fc4bef7d5e0>,\n",
              "        <matplotlib.axes._subplots.AxesSubplot object at 0x7fc4b0361460>,\n",
              "        <matplotlib.axes._subplots.AxesSubplot object at 0x7fc4b0306880>],\n",
              "       [<matplotlib.axes._subplots.AxesSubplot object at 0x7fc4b0332c70>,\n",
              "        <matplotlib.axes._subplots.AxesSubplot object at 0x7fc4b02db100>,\n",
              "        <matplotlib.axes._subplots.AxesSubplot object at 0x7fc4b02943d0>],\n",
              "       [<matplotlib.axes._subplots.AxesSubplot object at 0x7fc4b02944c0>,\n",
              "        <matplotlib.axes._subplots.AxesSubplot object at 0x7fc4b023a910>,\n",
              "        <matplotlib.axes._subplots.AxesSubplot object at 0x7fc4b0217850>],\n",
              "       [<matplotlib.axes._subplots.AxesSubplot object at 0x7fc4b01bff70>,\n",
              "        <matplotlib.axes._subplots.AxesSubplot object at 0x7fc4b01f16d0>,\n",
              "        <matplotlib.axes._subplots.AxesSubplot object at 0x7fc4b019edf0>]],\n",
              "      dtype=object)"
            ]
          },
          "metadata": {},
          "execution_count": 79
        },
        {
          "output_type": "display_data",
          "data": {
            "text/plain": [
              "<Figure size 1440x1080 with 12 Axes>"
            ],
            "image/png": "[encoded data removed]"
          },
          "metadata": {
            "needs_background": "light"
          }
        }
      ]
    },
    {
      "cell_type": "code",
      "source": [
        "X_Data= label_X.drop(['Chance'],axis=1)\n",
        "Y_Data= label_X['Chance']\n",
        "X_Data = X_Data.apply(lambda x: (x-x.min(axis=0) ) / (x.max(axis=0) - x.min(axis=0)) )\n",
        "\n",
        "\n",
        "def bar_chart(feature):\n",
        "    chance = df[df['Chance']==1][feature].value_counts()\n",
        "    no_chance = df[df['Chance']==0][feature].value_counts()\n",
        "    dfx = pd.DataFrame([chance,no_chance])\n",
        "    dfx.index = ['Got Chance','No Chance']\n",
        "    dfx.plot(kind='bar',stacked=True, figsize=(10,5))"
      ],
      "metadata": {
        "id": "-lQIyQgRenbC"
      },
      "execution_count": null,
      "outputs": []
    },
    {
      "cell_type": "code",
      "source": [
        "bar_chart('Gender')"
      ],
      "metadata": {
        "colab": {
          "base_uri": "https://localhost:8080/",
          "height": 368
        },
        "id": "lZDrETLlennC",
        "outputId": "43d3aa86-77a4-4a05-99f4-193c1bb3d800"
      },
      "execution_count": null,
      "outputs": [
        {
          "output_type": "display_data",
          "data": {
            "text/plain": [
              "<Figure size 720x360 with 1 Axes>"
            ],
            "image/png": "[encoded data removed]"
          },
          "metadata": {
            "needs_background": "light"
          }
        }
      ]
    },
    {
      "cell_type": "code",
      "source": [
        "def bar_chart(feature):\n",
        "    chance = df[df['Chance']==1][feature].value_counts()\n",
        "    dfx = pd.DataFrame([chance])\n",
        "    dfx.index = ['Got Chance']\n",
        "    dfx.plot(kind='bar', stacked=True, figsize=(12,6))\n",
        "    plt.legend(loc=\"right\", bbox_to_anchor=(0.25, -0), ncol= 1)\n",
        "    bar_chart('Undergraduate_University')"
      ],
      "metadata": {
        "id": "ar9ul577imgG"
      },
      "execution_count": null,
      "outputs": []
    },
    {
      "cell_type": "code",
      "source": [
        "facet = sns.FacetGrid(df, hue=\"Ranking\",aspect=4,height=4)\n",
        "facet.map(sns.kdeplot,'Undergraduate_CGPA',shade= True)\n",
        "facet.set(xlim=(0, df['Undergraduate_CGPA'].max()))\n",
        "facet.add_legend()\n",
        "plt.show() "
      ],
      "metadata": {
        "colab": {
          "base_uri": "https://localhost:8080/",
          "height": 237
        },
        "id": "BqpjuJxiisBQ",
        "outputId": "a272e1c5-693e-4252-f0a3-2e159f98410c"
      },
      "execution_count": null,
      "outputs": [
        {
          "output_type": "display_data",
          "data": {
            "text/plain": [
              "<Figure size 1200.62x288 with 1 Axes>"
            ],
            "image/png": "[encoded data removed]"
          },
          "metadata": {
            "needs_background": "light"
          }
        }
      ]
    },
    {
      "cell_type": "code",
      "source": [
        "import seaborn as sns\n",
        "corrmat = label_X.corr()\n",
        "top_corr_features = corrmat.index\n",
        "plt.figure(figsize=(10,10))\n",
        "g=sns.heatmap(label_X.corr(),annot=True,cmap=\"RdYlGn\")"
      ],
      "metadata": {
        "colab": {
          "base_uri": "https://localhost:8080/",
          "height": 747
        },
        "id": "IdXcub2misFe",
        "outputId": "b30aa0f1-865e-48e1-d14a-b50e5ad7be36"
      },
      "execution_count": null,
      "outputs": [
        {
          "output_type": "display_data",
          "data": {
            "text/plain": [
              "<Figure size 720x720 with 2 Axes>"
            ],
            "image/png": "[encoded data removed]"
          },
          "metadata": {
            "needs_background": "light"
          }
        }
      ]
    },
    {
      "cell_type": "code",
      "source": [
        "X_Data"
      ],
      "metadata": {
        "colab": {
          "base_uri": "https://localhost:8080/",
          "height": 488
        },
        "id": "1qra-nKPisJ4",
        "outputId": "1070857b-2906-491e-ac2f-63ce7c5278d7"
      },
      "execution_count": null,
      "outputs": [
        {
          "output_type": "execute_result",
          "data": {
            "text/plain": [
              "     Gender  Undergraduate_University  Undergraduate_CGPA  GRE  IELTS_TOEFL  \\\n",
              "0      1.00                      0.15                0.60 0.79         0.49   \n",
              "1      1.00                      0.55                0.73 0.83         0.00   \n",
              "2      1.00                      0.72                0.85 0.86         0.46   \n",
              "3      0.00                      0.20                0.37 0.90         0.81   \n",
              "4      1.00                      0.33                0.83 0.82         0.73   \n",
              "..      ...                       ...                 ...  ...          ...   \n",
              "244    0.00                      0.20                0.37 0.90         0.81   \n",
              "245    1.00                      0.33                0.83 0.82         0.73   \n",
              "246    0.00                      0.20                0.94 0.82         0.62   \n",
              "247    0.00                      0.95                0.26 0.83         0.19   \n",
              "248    0.00                      0.93                0.93 0.81         0.54   \n",
              "\n",
              "     Subject_got_chance  Work_experience  Research  Effort  Ranking  \\\n",
              "0                  0.42             1.00      0.00    0.75     0.44   \n",
              "1                  0.27             0.00      0.07    0.75     0.22   \n",
              "2                  0.27             1.00      0.07    1.00     0.56   \n",
              "3                  0.27             0.00      0.13    0.25     0.00   \n",
              "4                  0.12             0.00      0.40    1.00     0.33   \n",
              "..                  ...              ...       ...     ...      ...   \n",
              "244                0.27             0.00      0.13    0.25     0.00   \n",
              "245                0.12             0.00      0.40    1.00     0.33   \n",
              "246                0.12             0.00      0.47    0.00     0.00   \n",
              "247                0.92             0.00      0.00    0.25     0.44   \n",
              "248                0.04             1.00      0.47    1.00     0.22   \n",
              "\n",
              "     work_position_before_admission  \n",
              "0                              0.26  \n",
              "1                              0.63  \n",
              "2                              0.63  \n",
              "3                              0.63  \n",
              "4                              0.05  \n",
              "..                              ...  \n",
              "244                            0.63  \n",
              "245                            0.05  \n",
              "246                            0.16  \n",
              "247                            0.63  \n",
              "248                            0.63  \n",
              "\n",
              "[249 rows x 11 columns]"
            ],
            "text/html": [
              "\n",
              "  <div id=\"df-159cf259-1f0f-418e-98b1-27e9c262c774\">\n",
              "    <div class=\"colab-df-container\">\n",
              "      <div>\n",
              "<style scoped>\n",
              "    .dataframe tbody tr th:only-of-type {\n",
              "        vertical-align: middle;\n",
              "    }\n",
              "\n",
              "    .dataframe tbody tr th {\n",
              "        vertical-align: top;\n",
              "    }\n",
              "\n",
              "    .dataframe thead th {\n",
              "        text-align: right;\n",
              "    }\n",
              "</style>\n",
              "<table border=\"1\" class=\"dataframe\">\n",
              "  <thead>\n",
              "    <tr style=\"text-align: right;\">\n",
              "      <th></th>\n",
              "      <th>Gender</th>\n",
              "      <th>Undergraduate_University</th>\n",
              "      <th>Undergraduate_CGPA</th>\n",
              "      <th>GRE</th>\n",
              "      <th>IELTS_TOEFL</th>\n",
              "      <th>Subject_got_chance</th>\n",
              "      <th>Work_experience</th>\n",
              "      <th>Research</th>\n",
              "      <th>Effort</th>\n",
              "      <th>Ranking</th>\n",
              "      <th>work_position_before_admission</th>\n",
              "    </tr>\n",
              "  </thead>\n",
              "  <tbody>\n",
              "    <tr>\n",
              "      <th>0</th>\n",
              "      <td>1.00</td>\n",
              "      <td>0.15</td>\n",
              "      <td>0.60</td>\n",
              "      <td>0.79</td>\n",
              "      <td>0.49</td>\n",
              "      <td>0.42</td>\n",
              "      <td>1.00</td>\n",
              "      <td>0.00</td>\n",
              "      <td>0.75</td>\n",
              "      <td>0.44</td>\n",
              "      <td>0.26</td>\n",
              "    </tr>\n",
              "    <tr>\n",
              "      <th>1</th>\n",
              "      <td>1.00</td>\n",
              "      <td>0.55</td>\n",
              "      <td>0.73</td>\n",
              "      <td>0.83</td>\n",
              "      <td>0.00</td>\n",
              "      <td>0.27</td>\n",
              "      <td>0.00</td>\n",
              "      <td>0.07</td>\n",
              "      <td>0.75</td>\n",
              "      <td>0.22</td>\n",
              "      <td>0.63</td>\n",
              "    </tr>\n",
              "    <tr>\n",
              "      <th>2</th>\n",
              "      <td>1.00</td>\n",
              "      <td>0.72</td>\n",
              "      <td>0.85</td>\n",
              "      <td>0.86</td>\n",
              "      <td>0.46</td>\n",
              "      <td>0.27</td>\n",
              "      <td>1.00</td>\n",
              "      <td>0.07</td>\n",
              "      <td>1.00</td>\n",
              "      <td>0.56</td>\n",
              "      <td>0.63</td>\n",
              "    </tr>\n",
              "    <tr>\n",
              "      <th>3</th>\n",
              "      <td>0.00</td>\n",
              "      <td>0.20</td>\n",
              "      <td>0.37</td>\n",
              "      <td>0.90</td>\n",
              "      <td>0.81</td>\n",
              "      <td>0.27</td>\n",
              "      <td>0.00</td>\n",
              "      <td>0.13</td>\n",
              "      <td>0.25</td>\n",
              "      <td>0.00</td>\n",
              "      <td>0.63</td>\n",
              "    </tr>\n",
              "    <tr>\n",
              "      <th>4</th>\n",
              "      <td>1.00</td>\n",
              "      <td>0.33</td>\n",
              "      <td>0.83</td>\n",
              "      <td>0.82</td>\n",
              "      <td>0.73</td>\n",
              "      <td>0.12</td>\n",
              "      <td>0.00</td>\n",
              "      <td>0.40</td>\n",
              "      <td>1.00</td>\n",
              "      <td>0.33</td>\n",
              "      <td>0.05</td>\n",
              "    </tr>\n",
              "    <tr>\n",
              "      <th>...</th>\n",
              "      <td>...</td>\n",
              "      <td>...</td>\n",
              "      <td>...</td>\n",
              "      <td>...</td>\n",
              "      <td>...</td>\n",
              "      <td>...</td>\n",
              "      <td>...</td>\n",
              "      <td>...</td>\n",
              "      <td>...</td>\n",
              "      <td>...</td>\n",
              "      <td>...</td>\n",
              "    </tr>\n",
              "    <tr>\n",
              "      <th>244</th>\n",
              "      <td>0.00</td>\n",
              "      <td>0.20</td>\n",
              "      <td>0.37</td>\n",
              "      <td>0.90</td>\n",
              "      <td>0.81</td>\n",
              "      <td>0.27</td>\n",
              "      <td>0.00</td>\n",
              "      <td>0.13</td>\n",
              "      <td>0.25</td>\n",
              "      <td>0.00</td>\n",
              "      <td>0.63</td>\n",
              "    </tr>\n",
              "    <tr>\n",
              "      <th>245</th>\n",
              "      <td>1.00</td>\n",
              "      <td>0.33</td>\n",
              "      <td>0.83</td>\n",
              "      <td>0.82</td>\n",
              "      <td>0.73</td>\n",
              "      <td>0.12</td>\n",
              "      <td>0.00</td>\n",
              "      <td>0.40</td>\n",
              "      <td>1.00</td>\n",
              "      <td>0.33</td>\n",
              "      <td>0.05</td>\n",
              "    </tr>\n",
              "    <tr>\n",
              "      <th>246</th>\n",
              "      <td>0.00</td>\n",
              "      <td>0.20</td>\n",
              "      <td>0.94</td>\n",
              "      <td>0.82</td>\n",
              "      <td>0.62</td>\n",
              "      <td>0.12</td>\n",
              "      <td>0.00</td>\n",
              "      <td>0.47</td>\n",
              "      <td>0.00</td>\n",
              "      <td>0.00</td>\n",
              "      <td>0.16</td>\n",
              "    </tr>\n",
              "    <tr>\n",
              "      <th>247</th>\n",
              "      <td>0.00</td>\n",
              "      <td>0.95</td>\n",
              "      <td>0.26</td>\n",
              "      <td>0.83</td>\n",
              "      <td>0.19</td>\n",
              "      <td>0.92</td>\n",
              "      <td>0.00</td>\n",
              "      <td>0.00</td>\n",
              "      <td>0.25</td>\n",
              "      <td>0.44</td>\n",
              "      <td>0.63</td>\n",
              "    </tr>\n",
              "    <tr>\n",
              "      <th>248</th>\n",
              "      <td>0.00</td>\n",
              "      <td>0.93</td>\n",
              "      <td>0.93</td>\n",
              "      <td>0.81</td>\n",
              "      <td>0.54</td>\n",
              "      <td>0.04</td>\n",
              "      <td>1.00</td>\n",
              "      <td>0.47</td>\n",
              "      <td>1.00</td>\n",
              "      <td>0.22</td>\n",
              "      <td>0.63</td>\n",
              "    </tr>\n",
              "  </tbody>\n",
              "</table>\n",
              "<p>249 rows × 11 columns</p>\n",
              "</div>\n",
              "      <button class=\"colab-df-convert\" onclick=\"convertToInteractive('df-159cf259-1f0f-418e-98b1-27e9c262c774')\"\n",
              "              title=\"Convert this dataframe to an interactive table.\"\n",
              "              style=\"display:none;\">\n",
              "        \n",
              "  <svg xmlns=\"http://www.w3.org/2000/svg\" height=\"24px\"viewBox=\"0 0 24 24\"\n",
              "       width=\"24px\">\n",
              "    <path d=\"M0 0h24v24H0V0z\" fill=\"none\"/>\n",
              "    <path d=\"M18.56 5.44l.94 2.06.94-2.06 2.06-.94-2.06-.94-.94-2.06-.94 2.06-2.06.94zm-11 1L8.5 8.5l.94-2.06 2.06-.94-2.06-.94L8.5 2.5l-.94 2.06-2.06.94zm10 10l.94 2.06.94-2.06 2.06-.94-2.06-.94-.94-2.06-.94 2.06-2.06.94z\"/><path d=\"M17.41 7.96l-1.37-1.37c-.4-.4-.92-.59-1.43-.59-.52 0-1.04.2-1.43.59L10.3 9.45l-7.72 7.72c-.78.78-.78 2.05 0 2.83L4 21.41c.39.39.9.59 1.41.59.51 0 1.02-.2 1.41-.59l7.78-7.78 2.81-2.81c.8-.78.8-2.07 0-2.86zM5.41 20L4 18.59l7.72-7.72 1.47 1.35L5.41 20z\"/>\n",
              "  </svg>\n",
              "      </button>\n",
              "      \n",
              "  <style>\n",
              "    .colab-df-container {\n",
              "      display:flex;\n",
              "      flex-wrap:wrap;\n",
              "      gap: 12px;\n",
              "    }\n",
              "\n",
              "    .colab-df-convert {\n",
              "      background-color: #E8F0FE;\n",
              "      border: none;\n",
              "      border-radius: 50%;\n",
              "      cursor: pointer;\n",
              "      display: none;\n",
              "      fill: #1967D2;\n",
              "      height: 32px;\n",
              "      padding: 0 0 0 0;\n",
              "      width: 32px;\n",
              "    }\n",
              "\n",
              "    .colab-df-convert:hover {\n",
              "      background-color: #E2EBFA;\n",
              "      box-shadow: 0px 1px 2px rgba(60, 64, 67, 0.3), 0px 1px 3px 1px rgba(60, 64, 67, 0.15);\n",
              "      fill: #174EA6;\n",
              "    }\n",
              "\n",
              "    [theme=dark] .colab-df-convert {\n",
              "      background-color: #3B4455;\n",
              "      fill: #D2E3FC;\n",
              "    }\n",
              "\n",
              "    [theme=dark] .colab-df-convert:hover {\n",
              "      background-color: #434B5C;\n",
              "      box-shadow: 0px 1px 3px 1px rgba(0, 0, 0, 0.15);\n",
              "      filter: drop-shadow(0px 1px 2px rgba(0, 0, 0, 0.3));\n",
              "      fill: #FFFFFF;\n",
              "    }\n",
              "  </style>\n",
              "\n",
              "      <script>\n",
              "        const buttonEl =\n",
              "          document.querySelector('#df-159cf259-1f0f-418e-98b1-27e9c262c774 button.colab-df-convert');\n",
              "        buttonEl.style.display =\n",
              "          google.colab.kernel.accessAllowed ? 'block' : 'none';\n",
              "\n",
              "        async function convertToInteractive(key) {\n",
              "          const element = document.querySelector('#df-159cf259-1f0f-418e-98b1-27e9c262c774');\n",
              "          const dataTable =\n",
              "            await google.colab.kernel.invokeFunction('convertToInteractive',\n",
              "                                                     [key], {});\n",
              "          if (!dataTable) return;\n",
              "\n",
              "          const docLinkHtml = 'Like what you see? Visit the ' +\n",
              "            '<a target=\"_blank\" href=https://colab.research.google.com/notebooks/data_table.ipynb>data table notebook</a>'\n",
              "            + ' to learn more about interactive tables.';\n",
              "          element.innerHTML = '';\n",
              "          dataTable['output_type'] = 'display_data';\n",
              "          await google.colab.output.renderOutput(dataTable, element);\n",
              "          const docLink = document.createElement('div');\n",
              "          docLink.innerHTML = docLinkHtml;\n",
              "          element.appendChild(docLink);\n",
              "        }\n",
              "      </script>\n",
              "    </div>\n",
              "  </div>\n",
              "  "
            ]
          },
          "metadata": {},
          "execution_count": 85
        }
      ]
    },
    {
      "cell_type": "code",
      "source": [
        "Y_Data"
      ],
      "metadata": {
        "colab": {
          "base_uri": "https://localhost:8080/"
        },
        "id": "72nWxyH6mX_w",
        "outputId": "c5779af7-970a-46be-db86-cb9517b2e2a8"
      },
      "execution_count": null,
      "outputs": [
        {
          "output_type": "execute_result",
          "data": {
            "text/plain": [
              "0      1\n",
              "1      1\n",
              "2      1\n",
              "3      1\n",
              "4      1\n",
              "      ..\n",
              "244    1\n",
              "245    1\n",
              "246    1\n",
              "247    1\n",
              "248    1\n",
              "Name: Chance, Length: 249, dtype: int64"
            ]
          },
          "metadata": {},
          "execution_count": 86
        }
      ]
    },
    {
      "cell_type": "code",
      "source": [
        "from sklearn.model_selection import train_test_split \n",
        "X_train, X_test, y_train, y_test = train_test_split(X_Data,Y_Data, test_size=0.2, random_state=0)"
      ],
      "metadata": {
        "id": "LpiXv9WGisOk"
      },
      "execution_count": null,
      "outputs": []
    },
    {
      "cell_type": "markdown",
      "source": [
        "**Logistic Regression**"
      ],
      "metadata": {
        "id": "S7CzSgJBzNc2"
      }
    },
    {
      "cell_type": "code",
      "source": [
        "clf = LogisticRegression()\n",
        "clf.fit(X_train, y_train)\n",
        "y_pred = clf.predict(X_test)\n",
        "accuracy1_1 = clf.score(X_test, y_test)\n",
        "print(accuracy1_1*100, \"%\")\n",
        "print(classification_report(y_test, y_pred))\n",
        "print('Training set score: {:.2f}'.format(clf.score(X_train, y_train)*100))\n",
        "print('Test set score: {:.2f}'.format(clf.score(X_test, y_test)*100))"
      ],
      "metadata": {
        "colab": {
          "base_uri": "https://localhost:8080/"
        },
        "id": "PRTZcJf8uVxW",
        "outputId": "4319165b-25d8-4379-8333-0d33ef4bbb1a"
      },
      "execution_count": null,
      "outputs": [
        {
          "output_type": "stream",
          "name": "stdout",
          "text": [
            "72.0 %\n",
            "              precision    recall  f1-score   support\n",
            "\n",
            "           0       0.00      0.00      0.00        14\n",
            "           1       0.72      1.00      0.84        36\n",
            "\n",
            "    accuracy                           0.72        50\n",
            "   macro avg       0.36      0.50      0.42        50\n",
            "weighted avg       0.52      0.72      0.60        50\n",
            "\n",
            "Training set score: 80.40\n",
            "Test set score: 72.00\n"
          ]
        }
      ]
    },
    {
      "cell_type": "code",
      "source": [
        "from sklearn.model_selection import GridSearchCV\n",
        "grid={\"C\":np.logspace(-3,3,7), \"penalty\":[\"l1\",\"l2\"]}# l1 lasso l2 ridge\n",
        "logreg_cv=GridSearchCV(clf,grid,cv=10)\n",
        "logreg_cv.fit(X_train,y_train)\n",
        "accuracy1 = logreg_cv.best_score_\n",
        "\n",
        "print(\"tuned hpyerparameters :(best parameters) \",logreg_cv.best_params_)\n",
        "print(\"accuracy :\",accuracy1)"
      ],
      "metadata": {
        "colab": {
          "base_uri": "https://localhost:8080/"
        },
        "id": "3lk1lEOEF5XQ",
        "outputId": "69b02cf8-1004-4171-db64-ef4283507858"
      },
      "execution_count": null,
      "outputs": [
        {
          "output_type": "stream",
          "name": "stdout",
          "text": [
            "tuned hpyerparameters :(best parameters)  {'C': 0.001, 'penalty': 'l2'}\n",
            "accuracy : 0.8042105263157895\n"
          ]
        }
      ]
    },
    {
      "cell_type": "markdown",
      "source": [
        "**Naive Byes**"
      ],
      "metadata": {
        "id": "zhfBnqkOF2eb"
      }
    },
    {
      "cell_type": "code",
      "source": [
        "clf = GaussianNB()\n",
        "clf.fit(X_train, y_train)\n",
        "y_pred = clf.predict(X_test)\n",
        "accuracy2 = clf.score(X_test, y_test)\n",
        "print(accuracy2*100, \"%\")\n",
        "print(classification_report(y_test, y_pred))\n",
        "print('Training set score: {:.2f}'.format(clf.score(X_train, y_train)*100))\n",
        "print('Test set score: {:.2f}'.format(clf.score(X_test, y_test)*100))\n"
      ],
      "metadata": {
        "colab": {
          "base_uri": "https://localhost:8080/"
        },
        "id": "Xj2MpTgimgAZ",
        "outputId": "538fb303-a796-4ed3-fa1d-cb70e354b6f8"
      },
      "execution_count": null,
      "outputs": [
        {
          "output_type": "stream",
          "name": "stdout",
          "text": [
            "62.0 %\n",
            "              precision    recall  f1-score   support\n",
            "\n",
            "           0       0.27      0.21      0.24        14\n",
            "           1       0.72      0.78      0.75        36\n",
            "\n",
            "    accuracy                           0.62        50\n",
            "   macro avg       0.50      0.50      0.49        50\n",
            "weighted avg       0.59      0.62      0.60        50\n",
            "\n",
            "Training set score: 72.86\n",
            "Test set score: 62.00\n"
          ]
        }
      ]
    },
    {
      "cell_type": "markdown",
      "source": [
        "**K-Nearest Neighbour**"
      ],
      "metadata": {
        "id": "MrHo2PpjFWjo"
      }
    },
    {
      "cell_type": "code",
      "source": [
        "knn = KNeighborsClassifier(metric = 'minkowski', n_neighbors = 9, weights = 'uniform')\n",
        "knn.fit(X_train, y_train)\n",
        "y_pred = knn.predict(X_test)\n",
        "accuracy3_1 = knn.score(X_test, y_test)\n",
        "print(accuracy3_1*100, \"%\")\n",
        "print(classification_report(y_test, y_pred))\n",
        "print('Training set score: {:.2f}'.format(knn.score(X_train, y_train)*100))\n",
        "print('Test set score: {:.2f}'.format(knn.score(X_test, y_test)*100))"
      ],
      "metadata": {
        "colab": {
          "base_uri": "https://localhost:8080/"
        },
        "id": "GgynHcUNpt9-",
        "outputId": "e2256a6c-a2cd-4bd3-842a-592a40d33871"
      },
      "execution_count": null,
      "outputs": [
        {
          "output_type": "stream",
          "name": "stdout",
          "text": [
            "74.0 %\n",
            "              precision    recall  f1-score   support\n",
            "\n",
            "           0       1.00      0.07      0.13        14\n",
            "           1       0.73      1.00      0.85        36\n",
            "\n",
            "    accuracy                           0.74        50\n",
            "   macro avg       0.87      0.54      0.49        50\n",
            "weighted avg       0.81      0.74      0.65        50\n",
            "\n",
            "Training set score: 81.41\n",
            "Test set score: 74.00\n"
          ]
        }
      ]
    },
    {
      "cell_type": "code",
      "source": [
        "#Hyperparameter tuning for KNN\n",
        "from sklearn.model_selection import GridSearchCV\n",
        "grid_params = { 'n_neighbors' : range(1, 21, 2),\n",
        "               'weights' : ['uniform','distance'],\n",
        "               'metric' : ['minkowski','euclidean','manhattan']}\n",
        "knngs = GridSearchCV(KNeighborsClassifier(), grid_params, verbose = 1, cv=3, n_jobs = -1)\n",
        "knn_cv = knngs.fit(X_train, y_train)\n",
        "accuracy3 = knn_cv.best_score_"
      ],
      "metadata": {
        "colab": {
          "base_uri": "https://localhost:8080/"
        },
        "id": "MaSPmor0rXQ8",
        "outputId": "2273227b-8f5e-4429-fe73-00ec425e7b30"
      },
      "execution_count": null,
      "outputs": [
        {
          "output_type": "stream",
          "name": "stdout",
          "text": [
            "Fitting 3 folds for each of 60 candidates, totalling 180 fits\n"
          ]
        }
      ]
    },
    {
      "cell_type": "code",
      "source": [
        "print(\"tuned hpyerparameters :(best parameters) \",knn_cv.best_params_)\n",
        "print(\"accuracy :\",accuracy3)\n"
      ],
      "metadata": {
        "colab": {
          "base_uri": "https://localhost:8080/"
        },
        "id": "1FjdDWmut0yK",
        "outputId": "a845ad50-92e1-4267-f9bf-23b1ae2d26b1"
      },
      "execution_count": null,
      "outputs": [
        {
          "output_type": "stream",
          "name": "stdout",
          "text": [
            "tuned hpyerparameters :(best parameters)  {'metric': 'minkowski', 'n_neighbors': 9, 'weights': 'uniform'}\n",
            "accuracy : 0.8040102517714457\n"
          ]
        }
      ]
    },
    {
      "cell_type": "markdown",
      "source": [
        "**Random Forest**"
      ],
      "metadata": {
        "id": "5nlq2anPFL3U"
      }
    },
    {
      "cell_type": "code",
      "source": [
        "rfc = RandomForestClassifier(n_estimators=200,random_state=0)\n",
        "rfc.fit(X_train, y_train)\n",
        "y_pred = rfc.predict(X_test)\n",
        "accuracy4 = rfc.score(X_test, y_test)\n",
        "print(accuracy4*100, \"%\")\n",
        "print(classification_report(y_test, y_pred))\n",
        "print('Training set score: {:.2f}'.format(rfc.score(X_train, y_train)*100))\n",
        "print('Test set score: {:.2f}'.format(rfc.score(X_test, y_test)*100))"
      ],
      "metadata": {
        "colab": {
          "base_uri": "https://localhost:8080/"
        },
        "id": "FhOP3EUIqDhq",
        "outputId": "c0c6222f-6fea-4854-c028-5655fa5200a7"
      },
      "execution_count": null,
      "outputs": [
        {
          "output_type": "stream",
          "name": "stdout",
          "text": [
            "72.0 %\n",
            "              precision    recall  f1-score   support\n",
            "\n",
            "           0       0.00      0.00      0.00        14\n",
            "           1       0.72      1.00      0.84        36\n",
            "\n",
            "    accuracy                           0.72        50\n",
            "   macro avg       0.36      0.50      0.42        50\n",
            "weighted avg       0.52      0.72      0.60        50\n",
            "\n",
            "Training set score: 100.00\n",
            "Test set score: 72.00\n"
          ]
        }
      ]
    },
    {
      "cell_type": "markdown",
      "source": [
        "**MLP**"
      ],
      "metadata": {
        "id": "Lv7g9QZTrppz"
      }
    },
    {
      "cell_type": "code",
      "source": [
        "from sklearn.neural_network import MLPClassifier\n",
        "mlp = MLPClassifier(solver='lbfgs', alpha=1e-5,\n",
        "                    hidden_layer_sizes=(5, 2), random_state=1)\n",
        "\n",
        "mlp.fit(X_train, y_train)\n",
        "y_pred = mlp.predict(X_test)\n",
        "accuracy5 = mlp.score(X_test, y_test)\n",
        "print(accuracy5*100, \"%\")\n",
        "print(classification_report(y_test, y_pred))\n",
        "print('Training set score: {:.2f}'.format(mlp.score(X_train, y_train)*100))\n",
        "print('Test set score: {:.2f}'.format(mlp.score(X_test, y_test)*100))"
      ],
      "metadata": {
        "colab": {
          "base_uri": "https://localhost:8080/"
        },
        "id": "1xt7mA4RqQbv",
        "outputId": "519aadef-d41a-4b2d-f365-f030cc2a84eb"
      },
      "execution_count": null,
      "outputs": [
        {
          "output_type": "stream",
          "name": "stdout",
          "text": [
            "68.0 %\n",
            "              precision    recall  f1-score   support\n",
            "\n",
            "           0       0.00      0.00      0.00        14\n",
            "           1       0.71      0.94      0.81        36\n",
            "\n",
            "    accuracy                           0.68        50\n",
            "   macro avg       0.35      0.47      0.40        50\n",
            "weighted avg       0.51      0.68      0.58        50\n",
            "\n",
            "Training set score: 82.91\n",
            "Test set score: 68.00\n"
          ]
        }
      ]
    },
    {
      "cell_type": "markdown",
      "source": [
        "**Support Vector Machine**"
      ],
      "metadata": {
        "id": "CY66VQ3DFIh8"
      }
    },
    {
      "cell_type": "code",
      "source": [
        "from sklearn.svm import SVC\n",
        "svm1 = SVC(C=0.1, break_ties=False, cache_size=200, class_weight=None, coef0=0.0,\n",
        "    decision_function_shape='ovr', degree=3, gamma=1, kernel='rbf',\n",
        "    max_iter=-1, probability=False, random_state=None, shrinking=True,\n",
        "    tol=0.001, verbose=False)\n",
        "svm1.fit(X_train, y_train)\n",
        "y_pred_svm = svm1.predict(X_test)\n",
        "accuracy6_1 = svm1.score(X_test, y_test)\n",
        "print(accuracy6_1*100, \"%\")\n",
        "# Predictions and Evaluations \n",
        "from sklearn.metrics import classification_report, confusion_matrix\n",
        "print(classification_report(y_test, y_pred_svm))\n",
        "print('Training set score: {:.2f}'.format(svm1.score(X_train, y_train)*100))\n",
        "print('Test set score: {:.2f}'.format(svm1.score(X_test, y_test)*100))"
      ],
      "metadata": {
        "colab": {
          "base_uri": "https://localhost:8080/"
        },
        "id": "un_-e8gxu5FL",
        "outputId": "e1b233c6-d290-4edf-95c5-4d17b3783187"
      },
      "execution_count": null,
      "outputs": [
        {
          "output_type": "stream",
          "name": "stdout",
          "text": [
            "72.0 %\n",
            "              precision    recall  f1-score   support\n",
            "\n",
            "           0       0.00      0.00      0.00        14\n",
            "           1       0.72      1.00      0.84        36\n",
            "\n",
            "    accuracy                           0.72        50\n",
            "   macro avg       0.36      0.50      0.42        50\n",
            "weighted avg       0.52      0.72      0.60        50\n",
            "\n",
            "Training set score: 80.40\n",
            "Test set score: 72.00\n"
          ]
        }
      ]
    },
    {
      "cell_type": "code",
      "source": [
        "from sklearn.model_selection import GridSearchCV\n",
        "  \n",
        "# defining parameter range\n",
        "param_grid = {'C': [0.1, 1, 10, 100, 1000], \n",
        "              'gamma': [1, 0.1, 0.01, 0.001, 0.0001],\n",
        "              'kernel': ['rbf']} \n",
        "  \n",
        "svmgrs = GridSearchCV(SVC(), param_grid, refit = True, verbose = 3)\n",
        "  \n",
        "# fitting the model for grid search\n",
        "svm_cv = svmgrs.fit(X_train, y_train)\n",
        "\n",
        "accuracy6 = svm_cv.best_score_"
      ],
      "metadata": {
        "colab": {
          "base_uri": "https://localhost:8080/"
        },
        "id": "TXUwFwFwvNmy",
        "outputId": "31ea6369-d031-4e6c-94b2-a1d411b71317"
      },
      "execution_count": null,
      "outputs": [
        {
          "output_type": "stream",
          "name": "stdout",
          "text": [
            "Fitting 5 folds for each of 25 candidates, totalling 125 fits\n",
            "[CV 1/5] END ........C=0.1, gamma=1, kernel=rbf;, score=0.800 total time=   0.0s\n",
            "[CV 2/5] END ........C=0.1, gamma=1, kernel=rbf;, score=0.800 total time=   0.0s\n",
            "[CV 3/5] END ........C=0.1, gamma=1, kernel=rbf;, score=0.800 total time=   0.0s\n",
            "[CV 4/5] END ........C=0.1, gamma=1, kernel=rbf;, score=0.800 total time=   0.0s\n",
            "[CV 5/5] END ........C=0.1, gamma=1, kernel=rbf;, score=0.821 total time=   0.0s\n",
            "[CV 1/5] END ......C=0.1, gamma=0.1, kernel=rbf;, score=0.800 total time=   0.0s\n",
            "[CV 2/5] END ......C=0.1, gamma=0.1, kernel=rbf;, score=0.800 total time=   0.0s\n",
            "[CV 3/5] END ......C=0.1, gamma=0.1, kernel=rbf;, score=0.800 total time=   0.0s\n",
            "[CV 4/5] END ......C=0.1, gamma=0.1, kernel=rbf;, score=0.800 total time=   0.0s\n",
            "[CV 5/5] END ......C=0.1, gamma=0.1, kernel=rbf;, score=0.821 total time=   0.0s\n",
            "[CV 1/5] END .....C=0.1, gamma=0.01, kernel=rbf;, score=0.800 total time=   0.0s\n",
            "[CV 2/5] END .....C=0.1, gamma=0.01, kernel=rbf;, score=0.800 total time=   0.0s\n",
            "[CV 3/5] END .....C=0.1, gamma=0.01, kernel=rbf;, score=0.800 total time=   0.0s\n",
            "[CV 4/5] END .....C=0.1, gamma=0.01, kernel=rbf;, score=0.800 total time=   0.0s\n",
            "[CV 5/5] END .....C=0.1, gamma=0.01, kernel=rbf;, score=0.821 total time=   0.0s\n",
            "[CV 1/5] END ....C=0.1, gamma=0.001, kernel=rbf;, score=0.800 total time=   0.0s\n",
            "[CV 2/5] END ....C=0.1, gamma=0.001, kernel=rbf;, score=0.800 total time=   0.0s\n",
            "[CV 3/5] END ....C=0.1, gamma=0.001, kernel=rbf;, score=0.800 total time=   0.0s\n",
            "[CV 4/5] END ....C=0.1, gamma=0.001, kernel=rbf;, score=0.800 total time=   0.0s\n",
            "[CV 5/5] END ....C=0.1, gamma=0.001, kernel=rbf;, score=0.821 total time=   0.0s\n",
            "[CV 1/5] END ...C=0.1, gamma=0.0001, kernel=rbf;, score=0.800 total time=   0.0s\n",
            "[CV 2/5] END ...C=0.1, gamma=0.0001, kernel=rbf;, score=0.800 total time=   0.0s\n",
            "[CV 3/5] END ...C=0.1, gamma=0.0001, kernel=rbf;, score=0.800 total time=   0.0s\n",
            "[CV 4/5] END ...C=0.1, gamma=0.0001, kernel=rbf;, score=0.800 total time=   0.0s\n",
            "[CV 5/5] END ...C=0.1, gamma=0.0001, kernel=rbf;, score=0.821 total time=   0.0s\n",
            "[CV 1/5] END ..........C=1, gamma=1, kernel=rbf;, score=0.800 total time=   0.0s\n",
            "[CV 2/5] END ..........C=1, gamma=1, kernel=rbf;, score=0.800 total time=   0.0s\n",
            "[CV 3/5] END ..........C=1, gamma=1, kernel=rbf;, score=0.800 total time=   0.0s\n",
            "[CV 4/5] END ..........C=1, gamma=1, kernel=rbf;, score=0.800 total time=   0.0s\n",
            "[CV 5/5] END ..........C=1, gamma=1, kernel=rbf;, score=0.821 total time=   0.0s\n",
            "[CV 1/5] END ........C=1, gamma=0.1, kernel=rbf;, score=0.800 total time=   0.0s\n",
            "[CV 2/5] END ........C=1, gamma=0.1, kernel=rbf;, score=0.800 total time=   0.0s\n",
            "[CV 3/5] END ........C=1, gamma=0.1, kernel=rbf;, score=0.800 total time=   0.0s\n",
            "[CV 4/5] END ........C=1, gamma=0.1, kernel=rbf;, score=0.800 total time=   0.0s\n",
            "[CV 5/5] END ........C=1, gamma=0.1, kernel=rbf;, score=0.821 total time=   0.0s\n",
            "[CV 1/5] END .......C=1, gamma=0.01, kernel=rbf;, score=0.800 total time=   0.0s\n",
            "[CV 2/5] END .......C=1, gamma=0.01, kernel=rbf;, score=0.800 total time=   0.0s\n",
            "[CV 3/5] END .......C=1, gamma=0.01, kernel=rbf;, score=0.800 total time=   0.0s\n",
            "[CV 4/5] END .......C=1, gamma=0.01, kernel=rbf;, score=0.800 total time=   0.0s\n",
            "[CV 5/5] END .......C=1, gamma=0.01, kernel=rbf;, score=0.821 total time=   0.0s\n",
            "[CV 1/5] END ......C=1, gamma=0.001, kernel=rbf;, score=0.800 total time=   0.0s\n",
            "[CV 2/5] END ......C=1, gamma=0.001, kernel=rbf;, score=0.800 total time=   0.0s\n",
            "[CV 3/5] END ......C=1, gamma=0.001, kernel=rbf;, score=0.800 total time=   0.0s\n",
            "[CV 4/5] END ......C=1, gamma=0.001, kernel=rbf;, score=0.800 total time=   0.0s\n",
            "[CV 5/5] END ......C=1, gamma=0.001, kernel=rbf;, score=0.821 total time=   0.0s\n",
            "[CV 1/5] END .....C=1, gamma=0.0001, kernel=rbf;, score=0.800 total time=   0.0s\n",
            "[CV 2/5] END .....C=1, gamma=0.0001, kernel=rbf;, score=0.800 total time=   0.0s\n",
            "[CV 3/5] END .....C=1, gamma=0.0001, kernel=rbf;, score=0.800 total time=   0.0s\n",
            "[CV 4/5] END .....C=1, gamma=0.0001, kernel=rbf;, score=0.800 total time=   0.0s\n",
            "[CV 5/5] END .....C=1, gamma=0.0001, kernel=rbf;, score=0.821 total time=   0.0s\n",
            "[CV 1/5] END .........C=10, gamma=1, kernel=rbf;, score=0.675 total time=   0.0s\n",
            "[CV 2/5] END .........C=10, gamma=1, kernel=rbf;, score=0.650 total time=   0.0s\n",
            "[CV 3/5] END .........C=10, gamma=1, kernel=rbf;, score=0.675 total time=   0.0s\n",
            "[CV 4/5] END .........C=10, gamma=1, kernel=rbf;, score=0.775 total time=   0.0s\n",
            "[CV 5/5] END .........C=10, gamma=1, kernel=rbf;, score=0.795 total time=   0.0s\n",
            "[CV 1/5] END .......C=10, gamma=0.1, kernel=rbf;, score=0.800 total time=   0.0s\n",
            "[CV 2/5] END .......C=10, gamma=0.1, kernel=rbf;, score=0.800 total time=   0.0s\n",
            "[CV 3/5] END .......C=10, gamma=0.1, kernel=rbf;, score=0.800 total time=   0.0s\n",
            "[CV 4/5] END .......C=10, gamma=0.1, kernel=rbf;, score=0.800 total time=   0.0s\n",
            "[CV 5/5] END .......C=10, gamma=0.1, kernel=rbf;, score=0.821 total time=   0.0s\n",
            "[CV 1/5] END ......C=10, gamma=0.01, kernel=rbf;, score=0.800 total time=   0.0s\n",
            "[CV 2/5] END ......C=10, gamma=0.01, kernel=rbf;, score=0.800 total time=   0.0s\n",
            "[CV 3/5] END ......C=10, gamma=0.01, kernel=rbf;, score=0.800 total time=   0.0s\n",
            "[CV 4/5] END ......C=10, gamma=0.01, kernel=rbf;, score=0.800 total time=   0.0s\n",
            "[CV 5/5] END ......C=10, gamma=0.01, kernel=rbf;, score=0.821 total time=   0.0s\n",
            "[CV 1/5] END .....C=10, gamma=0.001, kernel=rbf;, score=0.800 total time=   0.0s\n",
            "[CV 2/5] END .....C=10, gamma=0.001, kernel=rbf;, score=0.800 total time=   0.0s\n",
            "[CV 3/5] END .....C=10, gamma=0.001, kernel=rbf;, score=0.800 total time=   0.0s\n",
            "[CV 4/5] END .....C=10, gamma=0.001, kernel=rbf;, score=0.800 total time=   0.0s\n",
            "[CV 5/5] END .....C=10, gamma=0.001, kernel=rbf;, score=0.821 total time=   0.0s\n",
            "[CV 1/5] END ....C=10, gamma=0.0001, kernel=rbf;, score=0.800 total time=   0.0s\n",
            "[CV 2/5] END ....C=10, gamma=0.0001, kernel=rbf;, score=0.800 total time=   0.0s\n",
            "[CV 3/5] END ....C=10, gamma=0.0001, kernel=rbf;, score=0.800 total time=   0.0s\n",
            "[CV 4/5] END ....C=10, gamma=0.0001, kernel=rbf;, score=0.800 total time=   0.0s\n",
            "[CV 5/5] END ....C=10, gamma=0.0001, kernel=rbf;, score=0.821 total time=   0.0s\n",
            "[CV 1/5] END ........C=100, gamma=1, kernel=rbf;, score=0.725 total time=   0.0s\n",
            "[CV 2/5] END ........C=100, gamma=1, kernel=rbf;, score=0.700 total time=   0.0s\n",
            "[CV 3/5] END ........C=100, gamma=1, kernel=rbf;, score=0.625 total time=   0.0s\n",
            "[CV 4/5] END ........C=100, gamma=1, kernel=rbf;, score=0.775 total time=   0.0s\n",
            "[CV 5/5] END ........C=100, gamma=1, kernel=rbf;, score=0.821 total time=   0.0s\n",
            "[CV 1/5] END ......C=100, gamma=0.1, kernel=rbf;, score=0.800 total time=   0.0s\n",
            "[CV 2/5] END ......C=100, gamma=0.1, kernel=rbf;, score=0.750 total time=   0.0s\n",
            "[CV 3/5] END ......C=100, gamma=0.1, kernel=rbf;, score=0.725 total time=   0.0s\n",
            "[CV 4/5] END ......C=100, gamma=0.1, kernel=rbf;, score=0.775 total time=   0.0s\n",
            "[CV 5/5] END ......C=100, gamma=0.1, kernel=rbf;, score=0.769 total time=   0.0s\n",
            "[CV 1/5] END .....C=100, gamma=0.01, kernel=rbf;, score=0.800 total time=   0.0s\n",
            "[CV 2/5] END .....C=100, gamma=0.01, kernel=rbf;, score=0.800 total time=   0.0s\n",
            "[CV 3/5] END .....C=100, gamma=0.01, kernel=rbf;, score=0.800 total time=   0.0s\n",
            "[CV 4/5] END .....C=100, gamma=0.01, kernel=rbf;, score=0.800 total time=   0.0s\n",
            "[CV 5/5] END .....C=100, gamma=0.01, kernel=rbf;, score=0.821 total time=   0.0s\n",
            "[CV 1/5] END ....C=100, gamma=0.001, kernel=rbf;, score=0.800 total time=   0.0s\n",
            "[CV 2/5] END ....C=100, gamma=0.001, kernel=rbf;, score=0.800 total time=   0.0s\n",
            "[CV 3/5] END ....C=100, gamma=0.001, kernel=rbf;, score=0.800 total time=   0.0s\n",
            "[CV 4/5] END ....C=100, gamma=0.001, kernel=rbf;, score=0.800 total time=   0.0s\n",
            "[CV 5/5] END ....C=100, gamma=0.001, kernel=rbf;, score=0.821 total time=   0.0s\n",
            "[CV 1/5] END ...C=100, gamma=0.0001, kernel=rbf;, score=0.800 total time=   0.0s\n",
            "[CV 2/5] END ...C=100, gamma=0.0001, kernel=rbf;, score=0.800 total time=   0.0s\n",
            "[CV 3/5] END ...C=100, gamma=0.0001, kernel=rbf;, score=0.800 total time=   0.0s\n",
            "[CV 4/5] END ...C=100, gamma=0.0001, kernel=rbf;, score=0.800 total time=   0.0s\n",
            "[CV 5/5] END ...C=100, gamma=0.0001, kernel=rbf;, score=0.821 total time=   0.0s\n",
            "[CV 1/5] END .......C=1000, gamma=1, kernel=rbf;, score=0.725 total time=   0.0s\n",
            "[CV 2/5] END .......C=1000, gamma=1, kernel=rbf;, score=0.700 total time=   0.0s\n",
            "[CV 3/5] END .......C=1000, gamma=1, kernel=rbf;, score=0.625 total time=   0.0s\n",
            "[CV 4/5] END .......C=1000, gamma=1, kernel=rbf;, score=0.775 total time=   0.0s\n",
            "[CV 5/5] END .......C=1000, gamma=1, kernel=rbf;, score=0.821 total time=   0.0s\n",
            "[CV 1/5] END .....C=1000, gamma=0.1, kernel=rbf;, score=0.750 total time=   0.0s\n",
            "[CV 2/5] END .....C=1000, gamma=0.1, kernel=rbf;, score=0.750 total time=   0.0s\n",
            "[CV 3/5] END .....C=1000, gamma=0.1, kernel=rbf;, score=0.725 total time=   0.0s\n",
            "[CV 4/5] END .....C=1000, gamma=0.1, kernel=rbf;, score=0.750 total time=   0.0s\n",
            "[CV 5/5] END .....C=1000, gamma=0.1, kernel=rbf;, score=0.769 total time=   0.0s\n",
            "[CV 1/5] END ....C=1000, gamma=0.01, kernel=rbf;, score=0.800 total time=   0.0s\n",
            "[CV 2/5] END ....C=1000, gamma=0.01, kernel=rbf;, score=0.800 total time=   0.0s\n",
            "[CV 3/5] END ....C=1000, gamma=0.01, kernel=rbf;, score=0.800 total time=   0.0s\n",
            "[CV 4/5] END ....C=1000, gamma=0.01, kernel=rbf;, score=0.800 total time=   0.0s\n",
            "[CV 5/5] END ....C=1000, gamma=0.01, kernel=rbf;, score=0.821 total time=   0.0s\n",
            "[CV 1/5] END ...C=1000, gamma=0.001, kernel=rbf;, score=0.800 total time=   0.0s\n",
            "[CV 2/5] END ...C=1000, gamma=0.001, kernel=rbf;, score=0.800 total time=   0.0s\n",
            "[CV 3/5] END ...C=1000, gamma=0.001, kernel=rbf;, score=0.800 total time=   0.0s\n",
            "[CV 4/5] END ...C=1000, gamma=0.001, kernel=rbf;, score=0.800 total time=   0.0s\n",
            "[CV 5/5] END ...C=1000, gamma=0.001, kernel=rbf;, score=0.821 total time=   0.0s\n",
            "[CV 1/5] END ..C=1000, gamma=0.0001, kernel=rbf;, score=0.800 total time=   0.0s\n",
            "[CV 2/5] END ..C=1000, gamma=0.0001, kernel=rbf;, score=0.800 total time=   0.0s\n",
            "[CV 3/5] END ..C=1000, gamma=0.0001, kernel=rbf;, score=0.800 total time=   0.0s\n",
            "[CV 4/5] END ..C=1000, gamma=0.0001, kernel=rbf;, score=0.800 total time=   0.0s\n",
            "[CV 5/5] END ..C=1000, gamma=0.0001, kernel=rbf;, score=0.821 total time=   0.0s\n"
          ]
        }
      ]
    },
    {
      "cell_type": "code",
      "source": [
        "print(\"tuned hpyerparameters :(best parameters) \",svm_cv.best_params_)\n",
        "print(\"accuracy :\",accuracy6)"
      ],
      "metadata": {
        "colab": {
          "base_uri": "https://localhost:8080/"
        },
        "id": "-xmdW5hMvU0h",
        "outputId": "b18f8342-133d-4621-a6cb-5837cb719dd9"
      },
      "execution_count": null,
      "outputs": [
        {
          "output_type": "stream",
          "name": "stdout",
          "text": [
            "tuned hpyerparameters :(best parameters)  {'C': 0.1, 'gamma': 1, 'kernel': 'rbf'}\n",
            "accuracy : 0.8041025641025641\n"
          ]
        }
      ]
    },
    {
      "cell_type": "markdown",
      "source": [
        "**Decision Tree**"
      ],
      "metadata": {
        "id": "4P6lhooEE-QV"
      }
    },
    {
      "cell_type": "code",
      "source": [
        "from sklearn.tree import DecisionTreeClassifier\n",
        "dt = DecisionTreeClassifier(ccp_alpha=0.0, class_weight=None, criterion='gini',\n",
        "                       max_depth=2, max_features=None, max_leaf_nodes=None,\n",
        "                       min_impurity_decrease=0.0,\n",
        "                       min_samples_leaf=20, min_samples_split=2,\n",
        "                       min_weight_fraction_leaf=0.0,\n",
        "                       random_state=42, splitter='best')\n",
        "dt.fit(X_train, y_train.ravel())\n",
        "y_pred_dt = dt.predict(X_test)\n",
        "accuracy7_1 = dt.score(X_test, y_test)\n",
        "print(accuracy7_1*100, \"%\")\n",
        "# Predictions and Evaluations \n",
        "from sklearn.metrics import classification_report, confusion_matrix\n",
        "print(classification_report(y_test, y_pred_dt))\n",
        "print('Training set score: {:.2f}'.format(dt.score(X_train, y_train)*100))\n",
        "print('Test set score: {:.2f}'.format(dt.score(X_test, y_test)*100))\n"
      ],
      "metadata": {
        "id": "MDa2HxrTzEqO",
        "colab": {
          "base_uri": "https://localhost:8080/"
        },
        "outputId": "7d8adea5-1512-4786-904a-7e333a3421c4"
      },
      "execution_count": null,
      "outputs": [
        {
          "output_type": "stream",
          "name": "stdout",
          "text": [
            "72.0 %\n",
            "              precision    recall  f1-score   support\n",
            "\n",
            "           0       0.00      0.00      0.00        14\n",
            "           1       0.72      1.00      0.84        36\n",
            "\n",
            "    accuracy                           0.72        50\n",
            "   macro avg       0.36      0.50      0.42        50\n",
            "weighted avg       0.52      0.72      0.60        50\n",
            "\n",
            "Training set score: 80.40\n",
            "Test set score: 72.00\n"
          ]
        }
      ]
    },
    {
      "cell_type": "code",
      "source": [
        "from sklearn.model_selection import GridSearchCV\n",
        "params = {\n",
        "    'max_depth': [2, 3, 5, 10, 20],\n",
        "    'min_samples_leaf': [5, 10, 20, 50, 100],\n",
        "    'criterion': [\"gini\", \"entropy\"]\n",
        "}\n",
        "# Instantiate the grid search model\n",
        "dtgrs = GridSearchCV(estimator=DecisionTreeClassifier(random_state=42), \n",
        "                           param_grid=params, \n",
        "                           cv=4, n_jobs=-1, verbose=1, scoring = \"accuracy\")\n",
        "\n",
        "dt_cv = dtgrs.fit(X_train, y_train)\n",
        "accuracy7 = dt_cv.best_score_\n",
        "print(\"tuned hpyerparameters :(best parameters) \",dt_cv.best_params_)\n",
        "print(\"accuracy :\",accuracy7)"
      ],
      "metadata": {
        "id": "ZHlfMGs5CPf8",
        "colab": {
          "base_uri": "https://localhost:8080/"
        },
        "outputId": "63feda09-a04b-49dc-ee10-d585ff1e3b1e"
      },
      "execution_count": null,
      "outputs": [
        {
          "output_type": "stream",
          "name": "stdout",
          "text": [
            "Fitting 4 folds for each of 50 candidates, totalling 200 fits\n",
            "tuned hpyerparameters :(best parameters)  {'criterion': 'gini', 'max_depth': 2, 'min_samples_leaf': 20}\n",
            "accuracy : 0.8040816326530613\n"
          ]
        }
      ]
    },
    {
      "cell_type": "code",
      "source": [
        "objects = ('LR', 'NB', 'KNN', 'RF', 'MLP', 'SVM', 'DT')\n",
        "y_pos = np.arange(len(objects))\n",
        "performance = [accuracy1, accuracy2, accuracy3, accuracy4, accuracy5, accuracy6, accuracy7]\n",
        "plt.bar(y_pos, performance, align='center', alpha=0.5, color=\"green\")\n",
        "plt.xticks(y_pos, objects)\n",
        "plt.ylabel('Accuracy Score')\n",
        "plt.title('Best Accuracy')\n",
        "plt.show()"
      ],
      "metadata": {
        "colab": {
          "base_uri": "https://localhost:8080/",
          "height": 281
        },
        "id": "w6EJhpOkqcsF",
        "outputId": "c93e296b-dfb3-43ea-8b99-554dda6ba1f0"
      },
      "execution_count": null,
      "outputs": [
        {
          "output_type": "display_data",
          "data": {
            "text/plain": [
              "<Figure size 432x288 with 1 Axes>"
            ],
            "image/png": "[encoded data removed]"
          },
          "metadata": {
            "needs_background": "light"
          }
        }
      ]
    },
    {
      "cell_type": "code",
      "source": [
        "from lazypredict.Supervised import LazyClassifier\n",
        "from sklearn.model_selection import train_test_split"
      ],
      "metadata": {
        "id": "VLLEe2tPio4w"
      },
      "execution_count": null,
      "outputs": []
    },
    {
      "cell_type": "code",
      "source": [
        "lazyclf = LazyClassifier(verbose=0, ignore_warnings=True, custom_metric=None)\n",
        "models,predictions = lazyclf.fit(X_train, X_test, y_train, y_test)"
      ],
      "metadata": {
        "id": "NWsICdVWio2Z",
        "colab": {
          "base_uri": "https://localhost:8080/"
        },
        "outputId": "8589eff9-489d-4160-f25e-978fcf726767"
      },
      "execution_count": null,
      "outputs": [
        {
          "output_type": "stream",
          "name": "stderr",
          "text": [
            "100%|██████████| 29/29 [00:00<00:00, 29.48it/s]\n"
          ]
        }
      ]
    },
    {
      "cell_type": "code",
      "source": [
        "print(models)"
      ],
      "metadata": {
        "colab": {
          "base_uri": "https://localhost:8080/"
        },
        "id": "u2gPcoSil2JD",
        "outputId": "f22b3136-6d02-498c-d090-5ba793f76dee"
      },
      "execution_count": null,
      "outputs": [
        {
          "output_type": "stream",
          "name": "stdout",
          "text": [
            "                               Accuracy  Balanced Accuracy  ROC AUC  F1 Score  \\\n",
            "Model                                                                           \n",
            "LabelSpreading                     0.78               0.65     0.65      0.75   \n",
            "LabelPropagation                   0.78               0.65     0.65      0.75   \n",
            "QuadraticDiscriminantAnalysis      0.74               0.62     0.62      0.72   \n",
            "NearestCentroid                    0.58               0.60     0.60      0.60   \n",
            "DecisionTreeClassifier             0.70               0.57     0.57      0.68   \n",
            "LGBMClassifier                     0.72               0.57     0.57      0.68   \n",
            "KNeighborsClassifier               0.74               0.56     0.56      0.67   \n",
            "AdaBoostClassifier                 0.74               0.56     0.56      0.67   \n",
            "ExtraTreesClassifier               0.74               0.56     0.56      0.67   \n",
            "LinearDiscriminantAnalysis         0.74               0.54     0.54      0.65   \n",
            "LogisticRegression                 0.74               0.54     0.54      0.65   \n",
            "ExtraTreeClassifier                0.70               0.53     0.53      0.65   \n",
            "SGDClassifier                      0.72               0.52     0.52      0.63   \n",
            "LinearSVC                          0.72               0.50     0.50      0.60   \n",
            "RidgeClassifierCV                  0.72               0.50     0.50      0.60   \n",
            "DummyClassifier                    0.72               0.50     0.50      0.60   \n",
            "SVC                                0.72               0.50     0.50      0.60   \n",
            "CalibratedClassifierCV             0.72               0.50     0.50      0.60   \n",
            "BernoulliNB                        0.72               0.50     0.50      0.60   \n",
            "RandomForestClassifier             0.72               0.50     0.50      0.60   \n",
            "RidgeClassifier                    0.72               0.50     0.50      0.60   \n",
            "GaussianNB                         0.62               0.50     0.50      0.60   \n",
            "XGBClassifier                      0.68               0.49     0.49      0.61   \n",
            "PassiveAggressiveClassifier        0.64               0.47     0.47      0.59   \n",
            "BaggingClassifier                  0.66               0.46     0.46      0.57   \n",
            "Perceptron                         0.56               0.39     0.39      0.52   \n",
            "\n",
            "                               Time Taken  \n",
            "Model                                      \n",
            "LabelSpreading                       0.02  \n",
            "LabelPropagation                     0.02  \n",
            "QuadraticDiscriminantAnalysis        0.02  \n",
            "NearestCentroid                      0.02  \n",
            "DecisionTreeClassifier               0.01  \n",
            "LGBMClassifier                       0.03  \n",
            "KNeighborsClassifier                 0.01  \n",
            "AdaBoostClassifier                   0.12  \n",
            "ExtraTreesClassifier                 0.13  \n",
            "LinearDiscriminantAnalysis           0.02  \n",
            "LogisticRegression                   0.02  \n",
            "ExtraTreeClassifier                  0.01  \n",
            "SGDClassifier                        0.02  \n",
            "LinearSVC                            0.03  \n",
            "RidgeClassifierCV                    0.01  \n",
            "DummyClassifier                      0.01  \n",
            "SVC                                  0.02  \n",
            "CalibratedClassifierCV               0.06  \n",
            "BernoulliNB                          0.01  \n",
            "RandomForestClassifier               0.17  \n",
            "RidgeClassifier                      0.01  \n",
            "GaussianNB                           0.02  \n",
            "XGBClassifier                        0.05  \n",
            "PassiveAggressiveClassifier          0.02  \n",
            "BaggingClassifier                    0.05  \n",
            "Perceptron                           0.01  \n"
          ]
        }
      ]
    }
  ]
}